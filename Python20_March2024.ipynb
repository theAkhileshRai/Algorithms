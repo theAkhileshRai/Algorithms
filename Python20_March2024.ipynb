{
  "nbformat": 4,
  "nbformat_minor": 0,
  "metadata": {
    "colab": {
      "provenance": [],
      "authorship_tag": "ABX9TyMkwSVU1yU2HQo5CJ/H0eMa",
      "include_colab_link": true
    },
    "kernelspec": {
      "name": "python3",
      "display_name": "Python 3"
    },
    "language_info": {
      "name": "python"
    }
  },
  "cells": [
    {
      "cell_type": "markdown",
      "metadata": {
        "id": "view-in-github",
        "colab_type": "text"
      },
      "source": [
        "<a href=\"https://colab.research.google.com/github/theAkhileshRai/Algorithms/blob/main/Python20_March2024.ipynb\" target=\"_parent\"><img src=\"https://colab.research.google.com/assets/colab-badge.svg\" alt=\"Open In Colab\"/></a>"
      ]
    },
    {
      "cell_type": "code",
      "execution_count": 1,
      "metadata": {
        "colab": {
          "base_uri": "https://localhost:8080/",
          "height": 367
        },
        "id": "aZFp2yAFRiYw",
        "outputId": "fc603a51-eaef-4dbe-84b8-f9efa078d410"
      },
      "outputs": [
        {
          "output_type": "stream",
          "name": "stdout",
          "text": [
            "the class has been 500, 5 instantiated for jscPhonev10\n",
            "the class has been 500, 5 instantiated for jscPhonev10\n"
          ]
        },
        {
          "output_type": "error",
          "ename": "FileNotFoundError",
          "evalue": "[Errno 2] No such file or directory: 'items.csv'",
          "traceback": [
            "\u001b[0;31m---------------------------------------------------------------------------\u001b[0m",
            "\u001b[0;31mFileNotFoundError\u001b[0m                         Traceback (most recent call last)",
            "\u001b[0;32m<ipython-input-1-8b8372626d82>\u001b[0m in \u001b[0;36m<cell line: 63>\u001b[0;34m()\u001b[0m\n\u001b[1;32m     64\u001b[0m \u001b[0;34m\u001b[0m\u001b[0m\n\u001b[1;32m     65\u001b[0m     \u001b[0mphone1\u001b[0m\u001b[0;34m=\u001b[0m\u001b[0mPhone\u001b[0m\u001b[0;34m(\u001b[0m\u001b[0;34m\"jscPhonev10\"\u001b[0m\u001b[0;34m,\u001b[0m\u001b[0;36m500\u001b[0m\u001b[0;34m,\u001b[0m\u001b[0;36m5\u001b[0m\u001b[0;34m,\u001b[0m\u001b[0;36m1\u001b[0m\u001b[0;34m)\u001b[0m\u001b[0;34m\u001b[0m\u001b[0;34m\u001b[0m\u001b[0m\n\u001b[0;32m---> 66\u001b[0;31m     \u001b[0mphone1\u001b[0m\u001b[0;34m.\u001b[0m\u001b[0minstantiate_from_csv\u001b[0m\u001b[0;34m(\u001b[0m\u001b[0;34m)\u001b[0m\u001b[0;34m\u001b[0m\u001b[0;34m\u001b[0m\u001b[0m\n\u001b[0m\u001b[1;32m     67\u001b[0m     \u001b[0mprint\u001b[0m\u001b[0;34m(\u001b[0m\u001b[0mItem\u001b[0m\u001b[0;34m.\u001b[0m\u001b[0mall\u001b[0m\u001b[0;34m)\u001b[0m\u001b[0;34m\u001b[0m\u001b[0;34m\u001b[0m\u001b[0m\n\u001b[1;32m     68\u001b[0m     \u001b[0mprint\u001b[0m\u001b[0;34m(\u001b[0m\u001b[0mItem\u001b[0m\u001b[0;34m.\u001b[0m\u001b[0mpay_rate\u001b[0m\u001b[0;34m)\u001b[0m \u001b[0;31m# class attribute\u001b[0m\u001b[0;34m\u001b[0m\u001b[0;34m\u001b[0m\u001b[0m\n",
            "\u001b[0;32m<ipython-input-1-8b8372626d82>\u001b[0m in \u001b[0;36minstantiate_from_csv\u001b[0;34m(cls)\u001b[0m\n\u001b[1;32m     35\u001b[0m     \u001b[0;34m@\u001b[0m\u001b[0mclassmethod\u001b[0m\u001b[0;34m\u001b[0m\u001b[0;34m\u001b[0m\u001b[0m\n\u001b[1;32m     36\u001b[0m     \u001b[0;32mdef\u001b[0m \u001b[0minstantiate_from_csv\u001b[0m\u001b[0;34m(\u001b[0m\u001b[0mcls\u001b[0m\u001b[0;34m)\u001b[0m\u001b[0;34m:\u001b[0m\u001b[0;34m\u001b[0m\u001b[0;34m\u001b[0m\u001b[0m\n\u001b[0;32m---> 37\u001b[0;31m         \u001b[0;32mwith\u001b[0m \u001b[0mopen\u001b[0m\u001b[0;34m(\u001b[0m\u001b[0;34m'items.csv'\u001b[0m\u001b[0;34m,\u001b[0m\u001b[0;34m'r'\u001b[0m\u001b[0;34m)\u001b[0m \u001b[0;32mas\u001b[0m \u001b[0mf\u001b[0m\u001b[0;34m:\u001b[0m\u001b[0;34m\u001b[0m\u001b[0;34m\u001b[0m\u001b[0m\n\u001b[0m\u001b[1;32m     38\u001b[0m             \u001b[0mreader\u001b[0m \u001b[0;34m=\u001b[0m \u001b[0mcsv\u001b[0m\u001b[0;34m.\u001b[0m\u001b[0mDictReader\u001b[0m\u001b[0;34m(\u001b[0m\u001b[0mf\u001b[0m\u001b[0;34m)\u001b[0m\u001b[0;34m\u001b[0m\u001b[0;34m\u001b[0m\u001b[0m\n\u001b[1;32m     39\u001b[0m             \u001b[0mitems\u001b[0m \u001b[0;34m=\u001b[0m \u001b[0mlist\u001b[0m\u001b[0;34m(\u001b[0m\u001b[0mreader\u001b[0m\u001b[0;34m)\u001b[0m\u001b[0;34m\u001b[0m\u001b[0;34m\u001b[0m\u001b[0m\n",
            "\u001b[0;31mFileNotFoundError\u001b[0m: [Errno 2] No such file or directory: 'items.csv'"
          ]
        }
      ],
      "source": [
        "import csv\n",
        "\n",
        "\n",
        "class Item:\n",
        "\n",
        "    pay_rate = 0.8  # discounted pay rate after 20% discount\n",
        "    all = []\n",
        "    def __init__(self, name: str, price: float, quantity=0):\n",
        "        self.name = name\n",
        "        self.price = price\n",
        "        self.quantity = quantity\n",
        "\n",
        "        print(f\"the class has been {price}, {quantity} instantiated for {name}\")\n",
        "\n",
        "        assert price >= 0\n",
        "        assert quantity >= 0\n",
        "        Item.all.append(self)\n",
        "\n",
        "    def __repr__(self):\n",
        "        return f\"{self.__class__.__name__}('{self.name},'{self.price}','{self.quantity})\"\n",
        "\n",
        "    @staticmethod\n",
        "    def is_integer(num):\n",
        "        if isinstance(num,float):\n",
        "            return num.is_integer()\n",
        "        elif isinstance(num,int):\n",
        "            return True\n",
        "        else:\n",
        "            return False\n",
        "\n",
        "\n",
        "    def calculate_total_price(self):\n",
        "        return self.price * self.quantity\n",
        "\n",
        "    @classmethod\n",
        "    def instantiate_from_csv(cls):\n",
        "        with open('items.csv','r') as f:\n",
        "            reader = csv.DictReader(f)\n",
        "            items = list(reader)\n",
        "\n",
        "        for item in items:\n",
        "            Item(\n",
        "            name = item.get('name'),\n",
        "            price = float(item.get('price')),\n",
        "            quantity = int(item.get('quantity'))\n",
        "            )\n",
        "\n",
        "    def apply_discount(self):\n",
        "        self.price = self.price * self.pay_rate\n",
        "\n",
        "\n",
        "class Phone(Item):\n",
        "    def __init__(self, name: str, price: float, quantity=0,broken_phones=0):\n",
        "        super().__init__(\n",
        "            name,price,quantity\n",
        "        )\n",
        "\n",
        "        print(f\"the class has been {price}, {quantity} instantiated for {name}\")\n",
        "        assert broken_phones>=0,F'BROKEN PHONES {broken_phones} is not supposed to be less than 1'\n",
        "        self.broken_phones = broken_phones\n",
        "        Item.all.append(self)\n",
        "\n",
        "if __name__ == \"__main__\":\n",
        "\n",
        "    phone1=Phone(\"jscPhonev10\",500,5,1)\n",
        "    phone1.instantiate_from_csv()\n",
        "    print(Item.all)\n",
        "    print(Item.pay_rate) # class attribute\n",
        "    phone1.apply_discount()\n",
        "    print(phone1.price)\n"
      ]
    }
  ]
}