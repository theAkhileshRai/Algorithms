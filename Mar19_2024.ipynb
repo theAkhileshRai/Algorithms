{
  "nbformat": 4,
  "nbformat_minor": 0,
  "metadata": {
    "colab": {
      "provenance": [],
      "mount_file_id": "1CwrPE7QI8rTB_eWqqJ0iWXgyWfyeNzR_",
      "authorship_tag": "ABX9TyPZ7HuBvyLH8LS2Iae9a0dw",
      "include_colab_link": true
    },
    "kernelspec": {
      "name": "python3",
      "display_name": "Python 3"
    },
    "language_info": {
      "name": "python"
    }
  },
  "cells": [
    {
      "cell_type": "markdown",
      "metadata": {
        "id": "view-in-github",
        "colab_type": "text"
      },
      "source": [
        "<a href=\"https://colab.research.google.com/github/theAkhileshRai/Algorithms/blob/main/Mar19_2024.ipynb\" target=\"_parent\"><img src=\"https://colab.research.google.com/assets/colab-badge.svg\" alt=\"Open In Colab\"/></a>"
      ]
    },
    {
      "cell_type": "code",
      "execution_count": 1,
      "metadata": {
        "id": "0q_kEBrI13T1"
      },
      "outputs": [],
      "source": [
        "import numpy as np\n",
        "import pandas as pd\n",
        "import matplotlib.pyplot as plt\n",
        "import spacy\n",
        "\n",
        "\n",
        "nlp = spacy.blank(\"en\")"
      ]
    },
    {
      "cell_type": "code",
      "source": [
        "train=pd.read_csv('/content/drive/MyDrive/train.csv')\n",
        "test=pd.read_csv('/content/drive/MyDrive/test.csv')"
      ],
      "metadata": {
        "id": "pGbcG2wa-TI8"
      },
      "execution_count": 2,
      "outputs": []
    },
    {
      "cell_type": "code",
      "source": [
        "train.head(3)"
      ],
      "metadata": {
        "colab": {
          "base_uri": "https://localhost:8080/",
          "height": 320
        },
        "id": "cru3Pzxb-tqj",
        "outputId": "422dd215-15ea-45e5-b1be-762991d82afc"
      },
      "execution_count": 3,
      "outputs": [
        {
          "output_type": "execute_result",
          "data": {
            "text/plain": [
              "   PassengerId  Survived  Pclass  \\\n",
              "0            1         0       3   \n",
              "1            2         1       1   \n",
              "2            3         1       3   \n",
              "\n",
              "                                                Name     Sex   Age  SibSp  \\\n",
              "0                            Braund, Mr. Owen Harris    male  22.0      1   \n",
              "1  Cumings, Mrs. John Bradley (Florence Briggs Th...  female  38.0      1   \n",
              "2                             Heikkinen, Miss. Laina  female  26.0      0   \n",
              "\n",
              "   Parch            Ticket     Fare Cabin Embarked  \n",
              "0      0         A/5 21171   7.2500   NaN        S  \n",
              "1      0          PC 17599  71.2833   C85        C  \n",
              "2      0  STON/O2. 3101282   7.9250   NaN        S  "
            ],
            "text/html": [
              "\n",
              "  <div id=\"df-155b9baf-229a-4e59-989a-e93dacf10610\" class=\"colab-df-container\">\n",
              "    <div>\n",
              "<style scoped>\n",
              "    .dataframe tbody tr th:only-of-type {\n",
              "        vertical-align: middle;\n",
              "    }\n",
              "\n",
              "    .dataframe tbody tr th {\n",
              "        vertical-align: top;\n",
              "    }\n",
              "\n",
              "    .dataframe thead th {\n",
              "        text-align: right;\n",
              "    }\n",
              "</style>\n",
              "<table border=\"1\" class=\"dataframe\">\n",
              "  <thead>\n",
              "    <tr style=\"text-align: right;\">\n",
              "      <th></th>\n",
              "      <th>PassengerId</th>\n",
              "      <th>Survived</th>\n",
              "      <th>Pclass</th>\n",
              "      <th>Name</th>\n",
              "      <th>Sex</th>\n",
              "      <th>Age</th>\n",
              "      <th>SibSp</th>\n",
              "      <th>Parch</th>\n",
              "      <th>Ticket</th>\n",
              "      <th>Fare</th>\n",
              "      <th>Cabin</th>\n",
              "      <th>Embarked</th>\n",
              "    </tr>\n",
              "  </thead>\n",
              "  <tbody>\n",
              "    <tr>\n",
              "      <th>0</th>\n",
              "      <td>1</td>\n",
              "      <td>0</td>\n",
              "      <td>3</td>\n",
              "      <td>Braund, Mr. Owen Harris</td>\n",
              "      <td>male</td>\n",
              "      <td>22.0</td>\n",
              "      <td>1</td>\n",
              "      <td>0</td>\n",
              "      <td>A/5 21171</td>\n",
              "      <td>7.2500</td>\n",
              "      <td>NaN</td>\n",
              "      <td>S</td>\n",
              "    </tr>\n",
              "    <tr>\n",
              "      <th>1</th>\n",
              "      <td>2</td>\n",
              "      <td>1</td>\n",
              "      <td>1</td>\n",
              "      <td>Cumings, Mrs. John Bradley (Florence Briggs Th...</td>\n",
              "      <td>female</td>\n",
              "      <td>38.0</td>\n",
              "      <td>1</td>\n",
              "      <td>0</td>\n",
              "      <td>PC 17599</td>\n",
              "      <td>71.2833</td>\n",
              "      <td>C85</td>\n",
              "      <td>C</td>\n",
              "    </tr>\n",
              "    <tr>\n",
              "      <th>2</th>\n",
              "      <td>3</td>\n",
              "      <td>1</td>\n",
              "      <td>3</td>\n",
              "      <td>Heikkinen, Miss. Laina</td>\n",
              "      <td>female</td>\n",
              "      <td>26.0</td>\n",
              "      <td>0</td>\n",
              "      <td>0</td>\n",
              "      <td>STON/O2. 3101282</td>\n",
              "      <td>7.9250</td>\n",
              "      <td>NaN</td>\n",
              "      <td>S</td>\n",
              "    </tr>\n",
              "  </tbody>\n",
              "</table>\n",
              "</div>\n",
              "    <div class=\"colab-df-buttons\">\n",
              "\n",
              "  <div class=\"colab-df-container\">\n",
              "    <button class=\"colab-df-convert\" onclick=\"convertToInteractive('df-155b9baf-229a-4e59-989a-e93dacf10610')\"\n",
              "            title=\"Convert this dataframe to an interactive table.\"\n",
              "            style=\"display:none;\">\n",
              "\n",
              "  <svg xmlns=\"http://www.w3.org/2000/svg\" height=\"24px\" viewBox=\"0 -960 960 960\">\n",
              "    <path d=\"M120-120v-720h720v720H120Zm60-500h600v-160H180v160Zm220 220h160v-160H400v160Zm0 220h160v-160H400v160ZM180-400h160v-160H180v160Zm440 0h160v-160H620v160ZM180-180h160v-160H180v160Zm440 0h160v-160H620v160Z\"/>\n",
              "  </svg>\n",
              "    </button>\n",
              "\n",
              "  <style>\n",
              "    .colab-df-container {\n",
              "      display:flex;\n",
              "      gap: 12px;\n",
              "    }\n",
              "\n",
              "    .colab-df-convert {\n",
              "      background-color: #E8F0FE;\n",
              "      border: none;\n",
              "      border-radius: 50%;\n",
              "      cursor: pointer;\n",
              "      display: none;\n",
              "      fill: #1967D2;\n",
              "      height: 32px;\n",
              "      padding: 0 0 0 0;\n",
              "      width: 32px;\n",
              "    }\n",
              "\n",
              "    .colab-df-convert:hover {\n",
              "      background-color: #E2EBFA;\n",
              "      box-shadow: 0px 1px 2px rgba(60, 64, 67, 0.3), 0px 1px 3px 1px rgba(60, 64, 67, 0.15);\n",
              "      fill: #174EA6;\n",
              "    }\n",
              "\n",
              "    .colab-df-buttons div {\n",
              "      margin-bottom: 4px;\n",
              "    }\n",
              "\n",
              "    [theme=dark] .colab-df-convert {\n",
              "      background-color: #3B4455;\n",
              "      fill: #D2E3FC;\n",
              "    }\n",
              "\n",
              "    [theme=dark] .colab-df-convert:hover {\n",
              "      background-color: #434B5C;\n",
              "      box-shadow: 0px 1px 3px 1px rgba(0, 0, 0, 0.15);\n",
              "      filter: drop-shadow(0px 1px 2px rgba(0, 0, 0, 0.3));\n",
              "      fill: #FFFFFF;\n",
              "    }\n",
              "  </style>\n",
              "\n",
              "    <script>\n",
              "      const buttonEl =\n",
              "        document.querySelector('#df-155b9baf-229a-4e59-989a-e93dacf10610 button.colab-df-convert');\n",
              "      buttonEl.style.display =\n",
              "        google.colab.kernel.accessAllowed ? 'block' : 'none';\n",
              "\n",
              "      async function convertToInteractive(key) {\n",
              "        const element = document.querySelector('#df-155b9baf-229a-4e59-989a-e93dacf10610');\n",
              "        const dataTable =\n",
              "          await google.colab.kernel.invokeFunction('convertToInteractive',\n",
              "                                                    [key], {});\n",
              "        if (!dataTable) return;\n",
              "\n",
              "        const docLinkHtml = 'Like what you see? Visit the ' +\n",
              "          '<a target=\"_blank\" href=https://colab.research.google.com/notebooks/data_table.ipynb>data table notebook</a>'\n",
              "          + ' to learn more about interactive tables.';\n",
              "        element.innerHTML = '';\n",
              "        dataTable['output_type'] = 'display_data';\n",
              "        await google.colab.output.renderOutput(dataTable, element);\n",
              "        const docLink = document.createElement('div');\n",
              "        docLink.innerHTML = docLinkHtml;\n",
              "        element.appendChild(docLink);\n",
              "      }\n",
              "    </script>\n",
              "  </div>\n",
              "\n",
              "\n",
              "<div id=\"df-b3c8a71d-bb0b-49ab-9cee-f3bcd5f72784\">\n",
              "  <button class=\"colab-df-quickchart\" onclick=\"quickchart('df-b3c8a71d-bb0b-49ab-9cee-f3bcd5f72784')\"\n",
              "            title=\"Suggest charts\"\n",
              "            style=\"display:none;\">\n",
              "\n",
              "<svg xmlns=\"http://www.w3.org/2000/svg\" height=\"24px\"viewBox=\"0 0 24 24\"\n",
              "     width=\"24px\">\n",
              "    <g>\n",
              "        <path d=\"M19 3H5c-1.1 0-2 .9-2 2v14c0 1.1.9 2 2 2h14c1.1 0 2-.9 2-2V5c0-1.1-.9-2-2-2zM9 17H7v-7h2v7zm4 0h-2V7h2v10zm4 0h-2v-4h2v4z\"/>\n",
              "    </g>\n",
              "</svg>\n",
              "  </button>\n",
              "\n",
              "<style>\n",
              "  .colab-df-quickchart {\n",
              "      --bg-color: #E8F0FE;\n",
              "      --fill-color: #1967D2;\n",
              "      --hover-bg-color: #E2EBFA;\n",
              "      --hover-fill-color: #174EA6;\n",
              "      --disabled-fill-color: #AAA;\n",
              "      --disabled-bg-color: #DDD;\n",
              "  }\n",
              "\n",
              "  [theme=dark] .colab-df-quickchart {\n",
              "      --bg-color: #3B4455;\n",
              "      --fill-color: #D2E3FC;\n",
              "      --hover-bg-color: #434B5C;\n",
              "      --hover-fill-color: #FFFFFF;\n",
              "      --disabled-bg-color: #3B4455;\n",
              "      --disabled-fill-color: #666;\n",
              "  }\n",
              "\n",
              "  .colab-df-quickchart {\n",
              "    background-color: var(--bg-color);\n",
              "    border: none;\n",
              "    border-radius: 50%;\n",
              "    cursor: pointer;\n",
              "    display: none;\n",
              "    fill: var(--fill-color);\n",
              "    height: 32px;\n",
              "    padding: 0;\n",
              "    width: 32px;\n",
              "  }\n",
              "\n",
              "  .colab-df-quickchart:hover {\n",
              "    background-color: var(--hover-bg-color);\n",
              "    box-shadow: 0 1px 2px rgba(60, 64, 67, 0.3), 0 1px 3px 1px rgba(60, 64, 67, 0.15);\n",
              "    fill: var(--button-hover-fill-color);\n",
              "  }\n",
              "\n",
              "  .colab-df-quickchart-complete:disabled,\n",
              "  .colab-df-quickchart-complete:disabled:hover {\n",
              "    background-color: var(--disabled-bg-color);\n",
              "    fill: var(--disabled-fill-color);\n",
              "    box-shadow: none;\n",
              "  }\n",
              "\n",
              "  .colab-df-spinner {\n",
              "    border: 2px solid var(--fill-color);\n",
              "    border-color: transparent;\n",
              "    border-bottom-color: var(--fill-color);\n",
              "    animation:\n",
              "      spin 1s steps(1) infinite;\n",
              "  }\n",
              "\n",
              "  @keyframes spin {\n",
              "    0% {\n",
              "      border-color: transparent;\n",
              "      border-bottom-color: var(--fill-color);\n",
              "      border-left-color: var(--fill-color);\n",
              "    }\n",
              "    20% {\n",
              "      border-color: transparent;\n",
              "      border-left-color: var(--fill-color);\n",
              "      border-top-color: var(--fill-color);\n",
              "    }\n",
              "    30% {\n",
              "      border-color: transparent;\n",
              "      border-left-color: var(--fill-color);\n",
              "      border-top-color: var(--fill-color);\n",
              "      border-right-color: var(--fill-color);\n",
              "    }\n",
              "    40% {\n",
              "      border-color: transparent;\n",
              "      border-right-color: var(--fill-color);\n",
              "      border-top-color: var(--fill-color);\n",
              "    }\n",
              "    60% {\n",
              "      border-color: transparent;\n",
              "      border-right-color: var(--fill-color);\n",
              "    }\n",
              "    80% {\n",
              "      border-color: transparent;\n",
              "      border-right-color: var(--fill-color);\n",
              "      border-bottom-color: var(--fill-color);\n",
              "    }\n",
              "    90% {\n",
              "      border-color: transparent;\n",
              "      border-bottom-color: var(--fill-color);\n",
              "    }\n",
              "  }\n",
              "</style>\n",
              "\n",
              "  <script>\n",
              "    async function quickchart(key) {\n",
              "      const quickchartButtonEl =\n",
              "        document.querySelector('#' + key + ' button');\n",
              "      quickchartButtonEl.disabled = true;  // To prevent multiple clicks.\n",
              "      quickchartButtonEl.classList.add('colab-df-spinner');\n",
              "      try {\n",
              "        const charts = await google.colab.kernel.invokeFunction(\n",
              "            'suggestCharts', [key], {});\n",
              "      } catch (error) {\n",
              "        console.error('Error during call to suggestCharts:', error);\n",
              "      }\n",
              "      quickchartButtonEl.classList.remove('colab-df-spinner');\n",
              "      quickchartButtonEl.classList.add('colab-df-quickchart-complete');\n",
              "    }\n",
              "    (() => {\n",
              "      let quickchartButtonEl =\n",
              "        document.querySelector('#df-b3c8a71d-bb0b-49ab-9cee-f3bcd5f72784 button');\n",
              "      quickchartButtonEl.style.display =\n",
              "        google.colab.kernel.accessAllowed ? 'block' : 'none';\n",
              "    })();\n",
              "  </script>\n",
              "</div>\n",
              "\n",
              "    </div>\n",
              "  </div>\n"
            ],
            "application/vnd.google.colaboratory.intrinsic+json": {
              "type": "dataframe",
              "variable_name": "train",
              "summary": "{\n  \"name\": \"train\",\n  \"rows\": 891,\n  \"fields\": [\n    {\n      \"column\": \"PassengerId\",\n      \"properties\": {\n        \"dtype\": \"number\",\n        \"std\": 257,\n        \"min\": 1,\n        \"max\": 891,\n        \"num_unique_values\": 891,\n        \"samples\": [\n          710,\n          440,\n          841\n        ],\n        \"semantic_type\": \"\",\n        \"description\": \"\"\n      }\n    },\n    {\n      \"column\": \"Survived\",\n      \"properties\": {\n        \"dtype\": \"number\",\n        \"std\": 0,\n        \"min\": 0,\n        \"max\": 1,\n        \"num_unique_values\": 2,\n        \"samples\": [\n          1,\n          0\n        ],\n        \"semantic_type\": \"\",\n        \"description\": \"\"\n      }\n    },\n    {\n      \"column\": \"Pclass\",\n      \"properties\": {\n        \"dtype\": \"number\",\n        \"std\": 0,\n        \"min\": 1,\n        \"max\": 3,\n        \"num_unique_values\": 3,\n        \"samples\": [\n          3,\n          1\n        ],\n        \"semantic_type\": \"\",\n        \"description\": \"\"\n      }\n    },\n    {\n      \"column\": \"Name\",\n      \"properties\": {\n        \"dtype\": \"string\",\n        \"num_unique_values\": 891,\n        \"samples\": [\n          \"Moubarek, Master. Halim Gonios (\\\"William George\\\")\",\n          \"Kvillner, Mr. Johan Henrik Johannesson\"\n        ],\n        \"semantic_type\": \"\",\n        \"description\": \"\"\n      }\n    },\n    {\n      \"column\": \"Sex\",\n      \"properties\": {\n        \"dtype\": \"category\",\n        \"num_unique_values\": 2,\n        \"samples\": [\n          \"female\",\n          \"male\"\n        ],\n        \"semantic_type\": \"\",\n        \"description\": \"\"\n      }\n    },\n    {\n      \"column\": \"Age\",\n      \"properties\": {\n        \"dtype\": \"number\",\n        \"std\": 14.526497332334042,\n        \"min\": 0.42,\n        \"max\": 80.0,\n        \"num_unique_values\": 88,\n        \"samples\": [\n          0.75,\n          22.0\n        ],\n        \"semantic_type\": \"\",\n        \"description\": \"\"\n      }\n    },\n    {\n      \"column\": \"SibSp\",\n      \"properties\": {\n        \"dtype\": \"number\",\n        \"std\": 1,\n        \"min\": 0,\n        \"max\": 8,\n        \"num_unique_values\": 7,\n        \"samples\": [\n          1,\n          0\n        ],\n        \"semantic_type\": \"\",\n        \"description\": \"\"\n      }\n    },\n    {\n      \"column\": \"Parch\",\n      \"properties\": {\n        \"dtype\": \"number\",\n        \"std\": 0,\n        \"min\": 0,\n        \"max\": 6,\n        \"num_unique_values\": 7,\n        \"samples\": [\n          0,\n          1\n        ],\n        \"semantic_type\": \"\",\n        \"description\": \"\"\n      }\n    },\n    {\n      \"column\": \"Ticket\",\n      \"properties\": {\n        \"dtype\": \"string\",\n        \"num_unique_values\": 681,\n        \"samples\": [\n          \"11774\",\n          \"248740\"\n        ],\n        \"semantic_type\": \"\",\n        \"description\": \"\"\n      }\n    },\n    {\n      \"column\": \"Fare\",\n      \"properties\": {\n        \"dtype\": \"number\",\n        \"std\": 49.6934285971809,\n        \"min\": 0.0,\n        \"max\": 512.3292,\n        \"num_unique_values\": 248,\n        \"samples\": [\n          11.2417,\n          51.8625\n        ],\n        \"semantic_type\": \"\",\n        \"description\": \"\"\n      }\n    },\n    {\n      \"column\": \"Cabin\",\n      \"properties\": {\n        \"dtype\": \"category\",\n        \"num_unique_values\": 147,\n        \"samples\": [\n          \"D45\",\n          \"B49\"\n        ],\n        \"semantic_type\": \"\",\n        \"description\": \"\"\n      }\n    },\n    {\n      \"column\": \"Embarked\",\n      \"properties\": {\n        \"dtype\": \"category\",\n        \"num_unique_values\": 3,\n        \"samples\": [\n          \"S\",\n          \"C\"\n        ],\n        \"semantic_type\": \"\",\n        \"description\": \"\"\n      }\n    }\n  ]\n}"
            }
          },
          "metadata": {},
          "execution_count": 3
        }
      ]
    },
    {
      "cell_type": "code",
      "source": [
        "train.isna().any()"
      ],
      "metadata": {
        "colab": {
          "base_uri": "https://localhost:8080/"
        },
        "id": "_tKcyfYJ-xcM",
        "outputId": "1812573e-e784-4f13-9a7d-1aa9436dcf68"
      },
      "execution_count": 4,
      "outputs": [
        {
          "output_type": "execute_result",
          "data": {
            "text/plain": [
              "PassengerId    False\n",
              "Survived       False\n",
              "Pclass         False\n",
              "Name           False\n",
              "Sex            False\n",
              "Age             True\n",
              "SibSp          False\n",
              "Parch          False\n",
              "Ticket         False\n",
              "Fare           False\n",
              "Cabin           True\n",
              "Embarked        True\n",
              "dtype: bool"
            ]
          },
          "metadata": {},
          "execution_count": 4
        }
      ]
    },
    {
      "cell_type": "code",
      "source": [
        "train['Age'].isna()"
      ],
      "metadata": {
        "colab": {
          "base_uri": "https://localhost:8080/"
        },
        "id": "A-Y_eGZK-9u5",
        "outputId": "7c68fcbb-916c-4f89-ba5a-6baba69711ce"
      },
      "execution_count": 5,
      "outputs": [
        {
          "output_type": "execute_result",
          "data": {
            "text/plain": [
              "0      False\n",
              "1      False\n",
              "2      False\n",
              "3      False\n",
              "4      False\n",
              "       ...  \n",
              "886    False\n",
              "887    False\n",
              "888     True\n",
              "889    False\n",
              "890    False\n",
              "Name: Age, Length: 891, dtype: bool"
            ]
          },
          "metadata": {},
          "execution_count": 5
        }
      ]
    },
    {
      "cell_type": "code",
      "source": [
        "x =np.argwhere(np.isnan(train['Age'].tolist()))\n",
        "len(x)"
      ],
      "metadata": {
        "colab": {
          "base_uri": "https://localhost:8080/"
        },
        "id": "YgC8xzF5_mS8",
        "outputId": "8592b9ff-49a0-4c87-fdb6-44887958e50c"
      },
      "execution_count": 6,
      "outputs": [
        {
          "output_type": "execute_result",
          "data": {
            "text/plain": [
              "177"
            ]
          },
          "metadata": {},
          "execution_count": 6
        }
      ]
    },
    {
      "cell_type": "code",
      "source": [
        "train[train.isna().any(axis=1)].shape"
      ],
      "metadata": {
        "colab": {
          "base_uri": "https://localhost:8080/"
        },
        "id": "nEF2IMMqFsRd",
        "outputId": "a714113f-d985-4410-d0f5-b615e5f9f00f"
      },
      "execution_count": 7,
      "outputs": [
        {
          "output_type": "execute_result",
          "data": {
            "text/plain": [
              "(708, 12)"
            ]
          },
          "metadata": {},
          "execution_count": 7
        }
      ]
    },
    {
      "cell_type": "code",
      "source": [
        "train['Name'][35]"
      ],
      "metadata": {
        "colab": {
          "base_uri": "https://localhost:8080/",
          "height": 35
        },
        "id": "VPvZ97KKGKpw",
        "outputId": "8c435c9c-2c92-4a29-ab2b-93506d2f28c9"
      },
      "execution_count": 60,
      "outputs": [
        {
          "output_type": "execute_result",
          "data": {
            "text/plain": [
              "'Holverson, Mr. Alexander Oskar'"
            ],
            "application/vnd.google.colaboratory.intrinsic+json": {
              "type": "string"
            }
          },
          "metadata": {},
          "execution_count": 60
        }
      ]
    },
    {
      "cell_type": "code",
      "source": [],
      "metadata": {
        "id": "tshB0hlrvuq7"
      },
      "execution_count": null,
      "outputs": []
    },
    {
      "cell_type": "code",
      "source": [
        "doc = nlp(train['Name'][35])"
      ],
      "metadata": {
        "id": "ScKL-nMAiNGP"
      },
      "execution_count": 62,
      "outputs": []
    },
    {
      "cell_type": "code",
      "source": [
        "filtered_tokens = [token.text for token in doc if not token.is_stop and not token.is_punct]"
      ],
      "metadata": {
        "id": "g42IM4VJW3zD"
      },
      "execution_count": 63,
      "outputs": []
    },
    {
      "cell_type": "code",
      "source": [
        "filtered_tokens"
      ],
      "metadata": {
        "colab": {
          "base_uri": "https://localhost:8080/"
        },
        "id": "byhgxrzuiQKU",
        "outputId": "b794665d-4b26-40e0-9a04-fb69b4827621"
      },
      "execution_count": 65,
      "outputs": [
        {
          "output_type": "execute_result",
          "data": {
            "text/plain": [
              "['Holverson', 'Mr.', 'Alexander', 'Oskar']"
            ]
          },
          "metadata": {},
          "execution_count": 65
        }
      ]
    },
    {
      "cell_type": "code",
      "source": [
        "a = [\"Master\",\"Mr.\",\"Miss.\"]\n",
        "\n",
        "b =\"Mr.\"\n",
        "\n",
        "if b in a:\n",
        "  print(True)\n",
        "if \"Mrt\" and \"mrz\" not in a:\n",
        "  print(False)"
      ],
      "metadata": {
        "id": "OXplxfX7J69h",
        "colab": {
          "base_uri": "https://localhost:8080/"
        },
        "outputId": "a4cc78b2-0729-49ff-eff3-db989c6aa292"
      },
      "execution_count": 50,
      "outputs": [
        {
          "output_type": "stream",
          "name": "stdout",
          "text": [
            "True\n",
            "False\n"
          ]
        }
      ]
    },
    {
      "cell_type": "code",
      "source": [
        "print('a')"
      ],
      "metadata": {
        "id": "ttPmHqF-KB5h",
        "colab": {
          "base_uri": "https://localhost:8080/"
        },
        "outputId": "bcbfb373-5f6f-43d9-881d-7a92c5e3c095"
      },
      "execution_count": 10,
      "outputs": [
        {
          "output_type": "stream",
          "name": "stdout",
          "text": [
            "a\n"
          ]
        }
      ]
    },
    {
      "cell_type": "code",
      "source": [
        "title =[]\n",
        "title2=[]"
      ],
      "metadata": {
        "id": "jd0gusbJAl2-"
      },
      "execution_count": 79,
      "outputs": []
    },
    {
      "cell_type": "code",
      "source": [
        "\n",
        "for x in range(len(train['Name'])):\n",
        "\n",
        "  doc = nlp(train['Name'][x])\n",
        "  filtered_tokens = [token.text for token in doc if not token.is_stop and not token.is_punct]\n",
        "  if \"Mr.\" in filtered_tokens:\n",
        "    # print(filtered_tokens[1])\n",
        "    title.append(\"Mr.\")\n",
        "  if \"Miss.\" in filtered_tokens:\n",
        "    title.append(\"Miss.\")\n",
        "  if \"Mrs.\" in filtered_tokens:\n",
        "    title.append(\"Mrs.\")\n",
        "  if\n",
        ""
      ],
      "metadata": {
        "id": "UWk2YNBOIhXe"
      },
      "execution_count": 80,
      "outputs": []
    },
    {
      "cell_type": "code",
      "source": [
        "print(title)"
      ],
      "metadata": {
        "colab": {
          "base_uri": "https://localhost:8080/"
        },
        "id": "3NTWrRi_eJkX",
        "outputId": "ad064901-c546-4767-f4a5-4812b1f85fc3"
      },
      "execution_count": 81,
      "outputs": [
        {
          "output_type": "stream",
          "name": "stdout",
          "text": [
            "['Mr.', 'Mrs.', 'Miss.', 'Mrs.', 'Mr.', 'Mr.', 'Mr.', 'Mrs.', 'Mrs.', 'Miss.', 'Miss.', 'Mr.', 'Mr.', 'Miss.', 'Mrs.', 'Mr.', 'Mrs.', 'Mrs.', 'Mr.', 'Mr.', 'Miss.', 'Mr.', 'Miss.', 'Mrs.', 'Mr.', 'Mr.', 'Miss.', 'Mr.', 'Mrs.', 'Miss.', 'Mr.', 'Mr.', 'Mr.', 'Mr.', 'Mr.', 'Miss.', 'Miss.', 'Mrs.', 'Mrs.', 'Mr.', 'Miss.', 'Miss.', 'Mr.', 'Mr.', 'Miss.', 'Mr.', 'Mrs.', 'Mr.', 'Mrs.', 'Mrs.', 'Mr.', 'Mr.', 'Miss.', 'Mr.', 'Miss.', 'Mr.', 'Miss.', 'Mr.', 'Mr.', 'Mrs.', 'Mr.', 'Miss.', 'Mr.', 'Mr.', 'Miss.', 'Mr.', 'Mr.', 'Mr.', 'Mr.', 'Mr.', 'Mr.', 'Miss.', 'Mr.', 'Mr.', 'Miss.', 'Mr.', 'Miss.', 'Mrs.', 'Mr.', 'Mr.', 'Miss.', 'Mr.', 'Mr.', 'Mr.', 'Mr.', 'Mr.', 'Mr.', 'Mr.', 'Mr.', 'Mr.', 'Mrs.', 'Mr.', 'Miss.', 'Mr.', 'Mr.', 'Mr.', 'Mr.', 'Mr.', 'Miss.', 'Mr.', 'Mr.', 'Miss.', 'Mr.', 'Miss.', 'Mr.', 'Miss.', 'Miss.', 'Mr.', 'Mr.', 'Mr.', 'Mr.', 'Miss.', 'Mr.', 'Mr.', 'Mr.', 'Miss.', 'Mr.', 'Mr.', 'Mr.', 'Miss.', 'Mr.', 'Mr.', 'Mr.', 'Mrs.', 'Mrs.', 'Mr.', 'Mr.', 'Miss.', 'Mr.', 'Mr.', 'Mr.', 'Mrs.', 'Miss.', 'Mrs.', 'Mr.', 'Mr.', 'Mr.', 'Mr.', 'Miss.', 'Mr.', 'Mrs.', 'Mr.', 'Mr.', 'Mr.', 'Mr.', 'Miss.', 'Mr.', 'Mr.', 'Mr.', 'Mrs.', 'Mr.', 'Mr.', 'Mrs.', 'Mrs.', 'Mr.', 'Mr.', 'Mr.', 'Miss.', 'Mr.', 'Mr.', 'Mr.', 'Miss.', 'Mr.', 'Mr.', 'Miss.', 'Mr.', 'Miss.', 'Mr.', 'Mrs.', 'Mr.', 'Mr.', 'Mr.', 'Mrs.', 'Mr.', 'Miss.', 'Mrs.', 'Miss.', 'Mr.', 'Mr.', 'Miss.', 'Miss.', 'Mr.', 'Mr.', 'Mr.', 'Mr.', 'Mr.', 'Miss.', 'Mr.', 'Mr.', 'Miss.', 'Mr.', 'Mr.', 'Miss.', 'Mr.', 'Mr.', 'Mr.', 'Miss.', 'Miss.', 'Mr.', 'Miss.', 'Mr.', 'Mr.', 'Mr.', 'Mr.', 'Mr.', 'Mr.', 'Mr.', 'Mr.', 'Mr.', 'Mr.', 'Miss.', 'Mrs.', 'Mr.', 'Mr.', 'Miss.', 'Mr.', 'Miss.', 'Mr.', 'Miss.', 'Mr.', 'Mr.', 'Miss.', 'Miss.', 'Mr.', 'Mr.', 'Mr.', 'Miss.', 'Mrs.', 'Mr.', 'Mr.', 'Mrs.', 'Mr.', 'Mr.', 'Mrs.', 'Mrs.', 'Mrs.', 'Miss.', 'Miss.', 'Mrs.', 'Mr.', 'Mr.', 'Mr.', 'Miss.', 'Mr.', 'Mr.', 'Mr.', 'Mrs.', 'Miss.', 'Mr.', 'Mr.', 'Mrs.', 'Mr.', 'Miss.', 'Miss.', 'Miss.', 'Mr.', 'Mrs.', 'Mr.', 'Mr.', 'Mr.', 'Mr.', 'Mr.', 'Mr.', 'Mr.', 'Mr.', 'Mr.', 'Miss.', 'Miss.', 'Mrs.', 'Mr.', 'Miss.', 'Mr.', 'Mr.', 'Mr.', 'Miss.', 'Mr.', 'Mrs.', 'Miss.', 'Mr.', 'Mr.', 'Miss.', 'Mr.', 'Miss.', 'Mrs.', 'Mr.', 'Miss.', 'Miss.', 'Miss.', 'Mrs.', 'Mr.', 'Mr.', 'Miss.', 'Mrs.', 'Miss.', 'Mrs.', 'Mr.', 'Mr.', 'Miss.', 'Mrs.', 'Mr.', 'Miss.', 'Mr.', 'Mrs.', 'Mrs.', 'Miss.', 'Miss.', 'Mr.', 'Mr.', 'Mr.', 'Mrs.', 'Mr.', 'Mr.', 'Miss.', 'Mr.', 'Mr.', 'Miss.', 'Mr.', 'Mr.', 'Mr.', 'Miss.', 'Miss.', 'Mrs.', 'Mr.', 'Mr.', 'Mr.', 'Mr.', 'Mr.', 'Mr.', 'Mr.', 'Miss.', 'Miss.', 'Miss.', 'Miss.', 'Mr.', 'Mr.', 'Mrs.', 'Mr.', 'Mr.', 'Mr.', 'Mrs.', 'Mrs.', 'Miss.', 'Mr.', 'Mr.', 'Mr.', 'Mr.', 'Miss.', 'Mrs.', 'Miss.', 'Mr.', 'Mr.', 'Mr.', 'Miss.', 'Miss.', 'Mr.', 'Mrs.', 'Mr.', 'Mr.', 'Miss.', 'Mr.', 'Miss.', 'Mr.', 'Mr.', 'Mr.', 'Miss.', 'Mrs.', 'Mr.', 'Miss.', 'Mr.', 'Mrs.', 'Mr.', 'Mr.', 'Miss.', 'Mr.', 'Miss.', 'Mr.', 'Mr.', 'Mr.', 'Miss.', 'Mr.', 'Mr.', 'Miss.', 'Mr.', 'Mr.', 'Mrs.', 'Mrs.', 'Miss.', 'Mr.', 'Miss.', 'Mr.', 'Mr.', 'Mr.', 'Mrs.', 'Mr.', 'Mr.', 'Mrs.', 'Miss.', 'Mr.', 'Mr.', 'Mr.', 'Mrs.', 'Mrs.', 'Mr.', 'Mr.', 'Miss.', 'Miss.', 'Mrs.', 'Mr.', 'Mr.', 'Mrs.', 'Mr.', 'Mr.', 'Mr.', 'Miss.', 'Mr.', 'Miss.', 'Mr.', 'Mr.', 'Mr.', 'Mr.', 'Mr.', 'Mr.', 'Mr.', 'Mrs.', 'Miss.', 'Mr.', 'Mr.', 'Mr.', 'Mr.', 'Mr.', 'Mr.', 'Mr.', 'Mr.', 'Mr.', 'Mr.', 'Miss.', 'Mr.', 'Mr.', 'Mrs.', 'Mrs.', 'Miss.', 'Mr.', 'Mr.', 'Mr.', 'Mr.', 'Miss.', 'Mr.', 'Mr.', 'Mrs.', 'Mr.', 'Miss.', 'Mrs.', 'Mr.', 'Mr.', 'Mr.', 'Mr.', 'Mr.', 'Mr.', 'Mr.', 'Mr.', 'Miss.', 'Mr.', 'Mrs.', 'Mr.', 'Mr.', 'Miss.', 'Miss.', 'Miss.', 'Miss.', 'Mr.', 'Mrs.', 'Mr.', 'Mr.', 'Mr.', 'Mr.', 'Mr.', 'Mr.', 'Mrs.', 'Mr.', 'Mr.', 'Mrs.', 'Mr.', 'Mrs.', 'Mr.', 'Miss.', 'Mr.', 'Mr.', 'Mrs.', 'Mr.', 'Mr.', 'Miss.', 'Mr.', 'Mr.', 'Mr.', 'Miss.', 'Mr.', 'Mr.', 'Mrs.', 'Miss.', 'Miss.', 'Miss.', 'Mr.', 'Miss.', 'Miss.', 'Miss.', 'Miss.', 'Mr.', 'Mr.', 'Mr.', 'Mrs.', 'Mr.', 'Mr.', 'Mr.', 'Mr.', 'Mr.', 'Mr.', 'Miss.', 'Mr.', 'Mr.', 'Mrs.', 'Mrs.', 'Mr.', 'Mr.', 'Mr.', 'Mr.', 'Miss.', 'Mr.', 'Mr.', 'Mrs.', 'Mr.', 'Mr.', 'Mr.', 'Mrs.', 'Mr.', 'Miss.', 'Mr.', 'Mr.', 'Miss.', 'Mrs.', 'Mrs.', 'Mr.', 'Miss.', 'Mrs.', 'Mr.', 'Mr.', 'Mr.', 'Miss.', 'Mr.', 'Mr.', 'Mr.', 'Mr.', 'Mr.', 'Mrs.', 'Mr.', 'Miss.', 'Mr.', 'Mr.', 'Miss.', 'Mr.', 'Mr.', 'Mrs.', 'Mr.', 'Mr.', 'Mr.', 'Mr.', 'Mr.', 'Mr.', 'Mr.', 'Mrs.', 'Miss.', 'Mrs.', 'Mr.', 'Miss.', 'Mr.', 'Mr.', 'Miss.', 'Mr.', 'Mrs.', 'Miss.', 'Mr.', 'Mr.', 'Mr.', 'Mr.', 'Mr.', 'Mr.', 'Mr.', 'Miss.', 'Mr.', 'Mr.', 'Mr.', 'Mr.', 'Mr.', 'Miss.', 'Miss.', 'Mr.', 'Mr.', 'Mrs.', 'Mr.', 'Mr.', 'Miss.', 'Mr.', 'Miss.', 'Mr.', 'Mr.', 'Mr.', 'Miss.', 'Mr.', 'Miss.', 'Mr.', 'Miss.', 'Miss.', 'Mr.', 'Mr.', 'Mrs.', 'Mr.', 'Mr.', 'Mr.', 'Mr.', 'Mr.', 'Mr.', 'Mr.', 'Mr.', 'Mr.', 'Mr.', 'Mrs.', 'Mrs.', 'Mr.', 'Mr.', 'Mr.', 'Mr.', 'Mr.', 'Mr.', 'Miss.', 'Mrs.', 'Mr.', 'Miss.', 'Mr.', 'Mr.', 'Mr.', 'Mr.', 'Mr.', 'Mr.', 'Mr.', 'Mr.', 'Miss.', 'Mr.', 'Miss.', 'Mr.', 'Mr.', 'Mr.', 'Mr.', 'Miss.', 'Mr.', 'Mr.', 'Mrs.', 'Mr.', 'Miss.', 'Mr.', 'Mr.', 'Mr.', 'Mrs.', 'Mr.', 'Miss.', 'Mr.', 'Mr.', 'Mr.', 'Mr.', 'Mr.', 'Miss.', 'Miss.', 'Mr.', 'Mr.', 'Miss.', 'Mr.', 'Mr.', 'Mr.', 'Mr.', 'Mr.', 'Mrs.', 'Miss.', 'Mr.', 'Miss.', 'Miss.', 'Mr.', 'Mr.', 'Mr.', 'Mr.', 'Mr.', 'Mrs.', 'Mr.', 'Mr.', 'Mr.', 'Mr.', 'Mr.', 'Miss.', 'Mr.', 'Mr.', 'Mr.', 'Miss.', 'Mr.', 'Mr.', 'Miss.', 'Mr.', 'Mr.', 'Mrs.', 'Mr.', 'Mr.', 'Mr.', 'Mr.', 'Mr.', 'Mr.', 'Mrs.', 'Mr.', 'Mrs.', 'Miss.', 'Mr.', 'Mr.', 'Mr.', 'Mr.', 'Mrs.', 'Mr.', 'Mrs.', 'Mr.', 'Mr.', 'Miss.', 'Mr.', 'Mrs.', 'Miss.', 'Mrs.', 'Mr.', 'Mr.', 'Mr.', 'Mr.', 'Miss.', 'Mr.', 'Mr.', 'Mr.', 'Miss.', 'Mr.', 'Mr.', 'Mr.', 'Mrs.', 'Mr.', 'Mrs.', 'Mr.', 'Mrs.', 'Mr.', 'Mr.', 'Mr.', 'Miss.', 'Mr.', 'Mrs.', 'Mr.', 'Mr.', 'Mr.', 'Miss.', 'Mr.', 'Mr.', 'Miss.', 'Mr.', 'Mr.', 'Mrs.', 'Mr.', 'Mrs.', 'Mr.', 'Mr.', 'Mr.', 'Mrs.', 'Mrs.', 'Mr.', 'Mr.', 'Mr.', 'Miss.', 'Mr.', 'Mr.', 'Mr.', 'Mr.', 'Mr.', 'Mr.', 'Miss.', 'Mr.', 'Mr.', 'Mr.', 'Mr.', 'Mr.', 'Mrs.', 'Mr.', 'Miss.', 'Miss.', 'Mrs.', 'Mrs.', 'Mrs.', 'Mr.', 'Mrs.', 'Mr.', 'Mr.', 'Mr.', 'Mrs.', 'Miss.', 'Mr.', 'Mrs.', 'Miss.', 'Mr.', 'Mr.', 'Mr.', 'Mrs.', 'Mr.', 'Mr.', 'Mrs.', 'Miss.', 'Mr.', 'Mr.', 'Mr.', 'Mrs.', 'Mrs.', 'Mr.', 'Miss.', 'Mr.', 'Mr.', 'Mrs.', 'Miss.', 'Miss.', 'Mr.', 'Mr.']\n"
          ]
        }
      ]
    },
    {
      "cell_type": "code",
      "source": [
        "len(title)"
      ],
      "metadata": {
        "colab": {
          "base_uri": "https://localhost:8080/"
        },
        "id": "137SCf5yud84",
        "outputId": "683bc882-517c-4221-ad23-7710ac75a151"
      },
      "execution_count": 82,
      "outputs": [
        {
          "output_type": "execute_result",
          "data": {
            "text/plain": [
              "824"
            ]
          },
          "metadata": {},
          "execution_count": 82
        }
      ]
    },
    {
      "cell_type": "code",
      "source": [
        "train['Name'][1]"
      ],
      "metadata": {
        "colab": {
          "base_uri": "https://localhost:8080/",
          "height": 35
        },
        "id": "BFlC6j73uFEp",
        "outputId": "803a42f6-d788-412f-e28c-42384bfe0583"
      },
      "execution_count": 78,
      "outputs": [
        {
          "output_type": "execute_result",
          "data": {
            "text/plain": [
              "'Cumings, Mrs. John Bradley (Florence Briggs Thayer)'"
            ],
            "application/vnd.google.colaboratory.intrinsic+json": {
              "type": "string"
            }
          },
          "metadata": {},
          "execution_count": 78
        }
      ]
    },
    {
      "cell_type": "code",
      "source": [
        "len(title)"
      ],
      "metadata": {
        "id": "jvKCwYEzQ614",
        "colab": {
          "base_uri": "https://localhost:8080/"
        },
        "outputId": "f45ef6e0-3c03-40d2-a96c-ded32828418f"
      },
      "execution_count": 69,
      "outputs": [
        {
          "output_type": "execute_result",
          "data": {
            "text/plain": [
              "1591"
            ]
          },
          "metadata": {},
          "execution_count": 69
        }
      ]
    },
    {
      "cell_type": "code",
      "source": [
        "from collections import Counter"
      ],
      "metadata": {
        "id": "uZcNUDsdP0ob"
      },
      "execution_count": 13,
      "outputs": []
    },
    {
      "cell_type": "code",
      "source": [
        "Counter(train[\"Name\"])"
      ],
      "metadata": {
        "colab": {
          "base_uri": "https://localhost:8080/"
        },
        "id": "XdU2_ZXFDiOA",
        "outputId": "21e07c5e-8390-4bc1-ceb2-39283349e703"
      },
      "execution_count": 83,
      "outputs": [
        {
          "output_type": "execute_result",
          "data": {
            "text/plain": [
              "Counter({'Braund, Mr. Owen Harris': 1,\n",
              "         'Cumings, Mrs. John Bradley (Florence Briggs Thayer)': 1,\n",
              "         'Heikkinen, Miss. Laina': 1,\n",
              "         'Futrelle, Mrs. Jacques Heath (Lily May Peel)': 1,\n",
              "         'Allen, Mr. William Henry': 1,\n",
              "         'Moran, Mr. James': 1,\n",
              "         'McCarthy, Mr. Timothy J': 1,\n",
              "         'Palsson, Master. Gosta Leonard': 1,\n",
              "         'Johnson, Mrs. Oscar W (Elisabeth Vilhelmina Berg)': 1,\n",
              "         'Nasser, Mrs. Nicholas (Adele Achem)': 1,\n",
              "         'Sandstrom, Miss. Marguerite Rut': 1,\n",
              "         'Bonnell, Miss. Elizabeth': 1,\n",
              "         'Saundercock, Mr. William Henry': 1,\n",
              "         'Andersson, Mr. Anders Johan': 1,\n",
              "         'Vestrom, Miss. Hulda Amanda Adolfina': 1,\n",
              "         'Hewlett, Mrs. (Mary D Kingcome) ': 1,\n",
              "         'Rice, Master. Eugene': 1,\n",
              "         'Williams, Mr. Charles Eugene': 1,\n",
              "         'Vander Planke, Mrs. Julius (Emelia Maria Vandemoortele)': 1,\n",
              "         'Masselmani, Mrs. Fatima': 1,\n",
              "         'Fynney, Mr. Joseph J': 1,\n",
              "         'Beesley, Mr. Lawrence': 1,\n",
              "         'McGowan, Miss. Anna \"Annie\"': 1,\n",
              "         'Sloper, Mr. William Thompson': 1,\n",
              "         'Palsson, Miss. Torborg Danira': 1,\n",
              "         'Asplund, Mrs. Carl Oscar (Selma Augusta Emilia Johansson)': 1,\n",
              "         'Emir, Mr. Farred Chehab': 1,\n",
              "         'Fortune, Mr. Charles Alexander': 1,\n",
              "         'O\\'Dwyer, Miss. Ellen \"Nellie\"': 1,\n",
              "         'Todoroff, Mr. Lalio': 1,\n",
              "         'Uruchurtu, Don. Manuel E': 1,\n",
              "         'Spencer, Mrs. William Augustus (Marie Eugenie)': 1,\n",
              "         'Glynn, Miss. Mary Agatha': 1,\n",
              "         'Wheadon, Mr. Edward H': 1,\n",
              "         'Meyer, Mr. Edgar Joseph': 1,\n",
              "         'Holverson, Mr. Alexander Oskar': 1,\n",
              "         'Mamee, Mr. Hanna': 1,\n",
              "         'Cann, Mr. Ernest Charles': 1,\n",
              "         'Vander Planke, Miss. Augusta Maria': 1,\n",
              "         'Nicola-Yarred, Miss. Jamila': 1,\n",
              "         'Ahlin, Mrs. Johan (Johanna Persdotter Larsson)': 1,\n",
              "         'Turpin, Mrs. William John Robert (Dorothy Ann Wonnacott)': 1,\n",
              "         'Kraeff, Mr. Theodor': 1,\n",
              "         'Laroche, Miss. Simonne Marie Anne Andree': 1,\n",
              "         'Devaney, Miss. Margaret Delia': 1,\n",
              "         'Rogers, Mr. William John': 1,\n",
              "         'Lennon, Mr. Denis': 1,\n",
              "         \"O'Driscoll, Miss. Bridget\": 1,\n",
              "         'Samaan, Mr. Youssef': 1,\n",
              "         'Arnold-Franchi, Mrs. Josef (Josefine Franchi)': 1,\n",
              "         'Panula, Master. Juha Niilo': 1,\n",
              "         'Nosworthy, Mr. Richard Cater': 1,\n",
              "         'Harper, Mrs. Henry Sleeper (Myna Haxtun)': 1,\n",
              "         'Faunthorpe, Mrs. Lizzie (Elizabeth Anne Wilkinson)': 1,\n",
              "         'Ostby, Mr. Engelhart Cornelius': 1,\n",
              "         'Woolner, Mr. Hugh': 1,\n",
              "         'Rugg, Miss. Emily': 1,\n",
              "         'Novel, Mr. Mansouer': 1,\n",
              "         'West, Miss. Constance Mirium': 1,\n",
              "         'Goodwin, Master. William Frederick': 1,\n",
              "         'Sirayanian, Mr. Orsen': 1,\n",
              "         'Icard, Miss. Amelie': 1,\n",
              "         'Harris, Mr. Henry Birkhardt': 1,\n",
              "         'Skoog, Master. Harald': 1,\n",
              "         'Stewart, Mr. Albert A': 1,\n",
              "         'Moubarek, Master. Gerios': 1,\n",
              "         'Nye, Mrs. (Elizabeth Ramell)': 1,\n",
              "         'Crease, Mr. Ernest James': 1,\n",
              "         'Andersson, Miss. Erna Alexandra': 1,\n",
              "         'Kink, Mr. Vincenz': 1,\n",
              "         'Jenkin, Mr. Stephen Curnow': 1,\n",
              "         'Goodwin, Miss. Lillian Amy': 1,\n",
              "         'Hood, Mr. Ambrose Jr': 1,\n",
              "         'Chronopoulos, Mr. Apostolos': 1,\n",
              "         'Bing, Mr. Lee': 1,\n",
              "         'Moen, Mr. Sigurd Hansen': 1,\n",
              "         'Staneff, Mr. Ivan': 1,\n",
              "         'Moutal, Mr. Rahamin Haim': 1,\n",
              "         'Caldwell, Master. Alden Gates': 1,\n",
              "         'Dowdell, Miss. Elizabeth': 1,\n",
              "         'Waelens, Mr. Achille': 1,\n",
              "         'Sheerlinck, Mr. Jan Baptist': 1,\n",
              "         'McDermott, Miss. Brigdet Delia': 1,\n",
              "         'Carrau, Mr. Francisco M': 1,\n",
              "         'Ilett, Miss. Bertha': 1,\n",
              "         'Backstrom, Mrs. Karl Alfred (Maria Mathilda Gustafsson)': 1,\n",
              "         'Ford, Mr. William Neal': 1,\n",
              "         'Slocovski, Mr. Selman Francis': 1,\n",
              "         'Fortune, Miss. Mabel Helen': 1,\n",
              "         'Celotti, Mr. Francesco': 1,\n",
              "         'Christmann, Mr. Emil': 1,\n",
              "         'Andreasson, Mr. Paul Edvin': 1,\n",
              "         'Chaffee, Mr. Herbert Fuller': 1,\n",
              "         'Dean, Mr. Bertram Frank': 1,\n",
              "         'Coxon, Mr. Daniel': 1,\n",
              "         'Shorney, Mr. Charles Joseph': 1,\n",
              "         'Goldschmidt, Mr. George B': 1,\n",
              "         'Greenfield, Mr. William Bertram': 1,\n",
              "         'Doling, Mrs. John T (Ada Julia Bone)': 1,\n",
              "         'Kantor, Mr. Sinai': 1,\n",
              "         'Petranec, Miss. Matilda': 1,\n",
              "         'Petroff, Mr. Pastcho (\"Pentcho\")': 1,\n",
              "         'White, Mr. Richard Frasar': 1,\n",
              "         'Johansson, Mr. Gustaf Joel': 1,\n",
              "         'Gustafsson, Mr. Anders Vilhelm': 1,\n",
              "         'Mionoff, Mr. Stoytcho': 1,\n",
              "         'Salkjelsvik, Miss. Anna Kristine': 1,\n",
              "         'Moss, Mr. Albert Johan': 1,\n",
              "         'Rekic, Mr. Tido': 1,\n",
              "         'Moran, Miss. Bertha': 1,\n",
              "         'Porter, Mr. Walter Chamberlain': 1,\n",
              "         'Zabour, Miss. Hileni': 1,\n",
              "         'Barton, Mr. David John': 1,\n",
              "         'Jussila, Miss. Katriina': 1,\n",
              "         'Attalah, Miss. Malake': 1,\n",
              "         'Pekoniemi, Mr. Edvard': 1,\n",
              "         'Connors, Mr. Patrick': 1,\n",
              "         'Turpin, Mr. William John Robert': 1,\n",
              "         'Baxter, Mr. Quigg Edmond': 1,\n",
              "         'Andersson, Miss. Ellis Anna Maria': 1,\n",
              "         'Hickman, Mr. Stanley George': 1,\n",
              "         'Moore, Mr. Leonard Charles': 1,\n",
              "         'Nasser, Mr. Nicholas': 1,\n",
              "         'Webber, Miss. Susan': 1,\n",
              "         'White, Mr. Percival Wayland': 1,\n",
              "         'Nicola-Yarred, Master. Elias': 1,\n",
              "         'McMahon, Mr. Martin': 1,\n",
              "         'Madsen, Mr. Fridtjof Arne': 1,\n",
              "         'Peter, Miss. Anna': 1,\n",
              "         'Ekstrom, Mr. Johan': 1,\n",
              "         'Drazenoic, Mr. Jozef': 1,\n",
              "         'Coelho, Mr. Domingos Fernandeo': 1,\n",
              "         'Robins, Mrs. Alexander A (Grace Charity Laury)': 1,\n",
              "         'Weisz, Mrs. Leopold (Mathilde Francoise Pede)': 1,\n",
              "         'Sobey, Mr. Samuel James Hayden': 1,\n",
              "         'Richard, Mr. Emile': 1,\n",
              "         'Newsom, Miss. Helen Monypeny': 1,\n",
              "         'Futrelle, Mr. Jacques Heath': 1,\n",
              "         'Osen, Mr. Olaf Elon': 1,\n",
              "         'Giglio, Mr. Victor': 1,\n",
              "         'Boulos, Mrs. Joseph (Sultana)': 1,\n",
              "         'Nysten, Miss. Anna Sofia': 1,\n",
              "         'Hakkarainen, Mrs. Pekka Pietari (Elin Matilda Dolck)': 1,\n",
              "         'Burke, Mr. Jeremiah': 1,\n",
              "         'Andrew, Mr. Edgardo Samuel': 1,\n",
              "         'Nicholls, Mr. Joseph Charles': 1,\n",
              "         'Andersson, Mr. August Edvard (\"Wennerstrom\")': 1,\n",
              "         'Ford, Miss. Robina Maggie \"Ruby\"': 1,\n",
              "         'Navratil, Mr. Michel (\"Louis M Hoffman\")': 1,\n",
              "         'Byles, Rev. Thomas Roussel Davids': 1,\n",
              "         'Bateman, Rev. Robert James': 1,\n",
              "         'Pears, Mrs. Thomas (Edith Wearne)': 1,\n",
              "         'Meo, Mr. Alfonzo': 1,\n",
              "         'van Billiard, Mr. Austin Blyler': 1,\n",
              "         'Olsen, Mr. Ole Martin': 1,\n",
              "         'Williams, Mr. Charles Duane': 1,\n",
              "         'Gilnagh, Miss. Katherine \"Katie\"': 1,\n",
              "         'Corn, Mr. Harry': 1,\n",
              "         'Smiljanic, Mr. Mile': 1,\n",
              "         'Sage, Master. Thomas Henry': 1,\n",
              "         'Cribb, Mr. John Hatfield': 1,\n",
              "         'Watt, Mrs. James (Elizabeth \"Bessie\" Inglis Milne)': 1,\n",
              "         'Bengtsson, Mr. John Viktor': 1,\n",
              "         'Calic, Mr. Jovo': 1,\n",
              "         'Panula, Master. Eino Viljami': 1,\n",
              "         'Goldsmith, Master. Frank John William \"Frankie\"': 1,\n",
              "         'Chibnall, Mrs. (Edith Martha Bowerman)': 1,\n",
              "         'Skoog, Mrs. William (Anna Bernhardina Karlsson)': 1,\n",
              "         'Baumann, Mr. John D': 1,\n",
              "         'Ling, Mr. Lee': 1,\n",
              "         'Van der hoef, Mr. Wyckoff': 1,\n",
              "         'Rice, Master. Arthur': 1,\n",
              "         'Johnson, Miss. Eleanor Ileen': 1,\n",
              "         'Sivola, Mr. Antti Wilhelm': 1,\n",
              "         'Smith, Mr. James Clinch': 1,\n",
              "         'Klasen, Mr. Klas Albin': 1,\n",
              "         'Lefebre, Master. Henry Forbes': 1,\n",
              "         'Isham, Miss. Ann Elizabeth': 1,\n",
              "         'Hale, Mr. Reginald': 1,\n",
              "         'Leonard, Mr. Lionel': 1,\n",
              "         'Sage, Miss. Constance Gladys': 1,\n",
              "         'Pernot, Mr. Rene': 1,\n",
              "         'Asplund, Master. Clarence Gustaf Hugo': 1,\n",
              "         'Becker, Master. Richard F': 1,\n",
              "         'Kink-Heilmann, Miss. Luise Gretchen': 1,\n",
              "         'Rood, Mr. Hugh Roscoe': 1,\n",
              "         'O\\'Brien, Mrs. Thomas (Johanna \"Hannah\" Godfrey)': 1,\n",
              "         'Romaine, Mr. Charles Hallace (\"Mr C Rolmane\")': 1,\n",
              "         'Bourke, Mr. John': 1,\n",
              "         'Turcin, Mr. Stjepan': 1,\n",
              "         'Pinsky, Mrs. (Rosa)': 1,\n",
              "         'Carbines, Mr. William': 1,\n",
              "         'Andersen-Jensen, Miss. Carla Christine Nielsine': 1,\n",
              "         'Navratil, Master. Michel M': 1,\n",
              "         'Brown, Mrs. James Joseph (Margaret Tobin)': 1,\n",
              "         'Lurette, Miss. Elise': 1,\n",
              "         'Mernagh, Mr. Robert': 1,\n",
              "         'Olsen, Mr. Karl Siegwart Andreas': 1,\n",
              "         'Madigan, Miss. Margaret \"Maggie\"': 1,\n",
              "         'Yrois, Miss. Henriette (\"Mrs Harbeck\")': 1,\n",
              "         'Vande Walle, Mr. Nestor Cyriel': 1,\n",
              "         'Sage, Mr. Frederick': 1,\n",
              "         'Johanson, Mr. Jakob Alfred': 1,\n",
              "         'Youseff, Mr. Gerious': 1,\n",
              "         'Cohen, Mr. Gurshon \"Gus\"': 1,\n",
              "         'Strom, Miss. Telma Matilda': 1,\n",
              "         'Backstrom, Mr. Karl Alfred': 1,\n",
              "         'Albimona, Mr. Nassef Cassem': 1,\n",
              "         'Carr, Miss. Helen \"Ellen\"': 1,\n",
              "         'Blank, Mr. Henry': 1,\n",
              "         'Ali, Mr. Ahmed': 1,\n",
              "         'Cameron, Miss. Clear Annie': 1,\n",
              "         'Perkin, Mr. John Henry': 1,\n",
              "         'Givard, Mr. Hans Kristensen': 1,\n",
              "         'Kiernan, Mr. Philip': 1,\n",
              "         'Newell, Miss. Madeleine': 1,\n",
              "         'Honkanen, Miss. Eliina': 1,\n",
              "         'Jacobsohn, Mr. Sidney Samuel': 1,\n",
              "         'Bazzani, Miss. Albina': 1,\n",
              "         'Harris, Mr. Walter': 1,\n",
              "         'Sunderland, Mr. Victor Francis': 1,\n",
              "         'Bracken, Mr. James H': 1,\n",
              "         'Green, Mr. George Henry': 1,\n",
              "         'Nenkoff, Mr. Christo': 1,\n",
              "         'Hoyt, Mr. Frederick Maxfield': 1,\n",
              "         'Berglund, Mr. Karl Ivar Sven': 1,\n",
              "         'Mellors, Mr. William John': 1,\n",
              "         'Lovell, Mr. John Hall (\"Henry\")': 1,\n",
              "         'Fahlstrom, Mr. Arne Jonas': 1,\n",
              "         'Lefebre, Miss. Mathilde': 1,\n",
              "         'Harris, Mrs. Henry Birkhardt (Irene Wallach)': 1,\n",
              "         'Larsson, Mr. Bengt Edvin': 1,\n",
              "         'Sjostedt, Mr. Ernst Adolf': 1,\n",
              "         'Asplund, Miss. Lillian Gertrud': 1,\n",
              "         'Leyson, Mr. Robert William Norman': 1,\n",
              "         'Harknett, Miss. Alice Phoebe': 1,\n",
              "         'Hold, Mr. Stephen': 1,\n",
              "         'Collyer, Miss. Marjorie \"Lottie\"': 1,\n",
              "         'Pengelly, Mr. Frederick William': 1,\n",
              "         'Hunt, Mr. George Henry': 1,\n",
              "         'Zabour, Miss. Thamine': 1,\n",
              "         'Murphy, Miss. Katherine \"Kate\"': 1,\n",
              "         'Coleridge, Mr. Reginald Charles': 1,\n",
              "         'Maenpaa, Mr. Matti Alexanteri': 1,\n",
              "         'Attalah, Mr. Sleiman': 1,\n",
              "         'Minahan, Dr. William Edward': 1,\n",
              "         'Lindahl, Miss. Agda Thorilda Viktoria': 1,\n",
              "         'Hamalainen, Mrs. William (Anna)': 1,\n",
              "         'Beckwith, Mr. Richard Leonard': 1,\n",
              "         'Carter, Rev. Ernest Courtenay': 1,\n",
              "         'Reed, Mr. James George': 1,\n",
              "         'Strom, Mrs. Wilhelm (Elna Matilda Persson)': 1,\n",
              "         'Stead, Mr. William Thomas': 1,\n",
              "         'Lobb, Mr. William Arthur': 1,\n",
              "         'Rosblom, Mrs. Viktor (Helena Wilhelmina)': 1,\n",
              "         'Touma, Mrs. Darwis (Hanne Youssef Razi)': 1,\n",
              "         'Thorne, Mrs. Gertrude Maybelle': 1,\n",
              "         'Cherry, Miss. Gladys': 1,\n",
              "         'Ward, Miss. Anna': 1,\n",
              "         'Parrish, Mrs. (Lutie Davis)': 1,\n",
              "         'Smith, Mr. Thomas': 1,\n",
              "         'Asplund, Master. Edvin Rojj Felix': 1,\n",
              "         'Taussig, Mr. Emil': 1,\n",
              "         'Harrison, Mr. William': 1,\n",
              "         'Henry, Miss. Delia': 1,\n",
              "         'Reeves, Mr. David': 1,\n",
              "         'Panula, Mr. Ernesti Arvid': 1,\n",
              "         'Persson, Mr. Ernst Ulrik': 1,\n",
              "         'Graham, Mrs. William Thompson (Edith Junkins)': 1,\n",
              "         'Bissette, Miss. Amelia': 1,\n",
              "         'Cairns, Mr. Alexander': 1,\n",
              "         'Tornquist, Mr. William Henry': 1,\n",
              "         'Mellinger, Mrs. (Elizabeth Anne Maidment)': 1,\n",
              "         'Natsch, Mr. Charles H': 1,\n",
              "         'Healy, Miss. Hanora \"Nora\"': 1,\n",
              "         'Andrews, Miss. Kornelia Theodosia': 1,\n",
              "         'Lindblom, Miss. Augusta Charlotta': 1,\n",
              "         'Parkes, Mr. Francis \"Frank\"': 1,\n",
              "         'Rice, Master. Eric': 1,\n",
              "         'Abbott, Mrs. Stanton (Rosa Hunt)': 1,\n",
              "         'Duane, Mr. Frank': 1,\n",
              "         'Olsson, Mr. Nils Johan Goransson': 1,\n",
              "         'de Pelsmaeker, Mr. Alfons': 1,\n",
              "         'Dorking, Mr. Edward Arthur': 1,\n",
              "         'Smith, Mr. Richard William': 1,\n",
              "         'Stankovic, Mr. Ivan': 1,\n",
              "         'de Mulder, Mr. Theodore': 1,\n",
              "         'Naidenoff, Mr. Penko': 1,\n",
              "         'Hosono, Mr. Masabumi': 1,\n",
              "         'Connolly, Miss. Kate': 1,\n",
              "         'Barber, Miss. Ellen \"Nellie\"': 1,\n",
              "         'Bishop, Mrs. Dickinson H (Helen Walton)': 1,\n",
              "         'Levy, Mr. Rene Jacques': 1,\n",
              "         'Haas, Miss. Aloisia': 1,\n",
              "         'Mineff, Mr. Ivan': 1,\n",
              "         'Lewy, Mr. Ervin G': 1,\n",
              "         'Hanna, Mr. Mansour': 1,\n",
              "         'Allison, Miss. Helen Loraine': 1,\n",
              "         'Saalfeld, Mr. Adolphe': 1,\n",
              "         'Baxter, Mrs. James (Helene DeLaudeniere Chaput)': 1,\n",
              "         'Kelly, Miss. Anna Katherine \"Annie Kate\"': 1,\n",
              "         'McCoy, Mr. Bernard': 1,\n",
              "         'Johnson, Mr. William Cahoone Jr': 1,\n",
              "         'Keane, Miss. Nora A': 1,\n",
              "         'Williams, Mr. Howard Hugh \"Harry\"': 1,\n",
              "         'Allison, Master. Hudson Trevor': 1,\n",
              "         'Fleming, Miss. Margaret': 1,\n",
              "         'Penasco y Castellana, Mrs. Victor de Satode (Maria Josefa Perez de Soto y Vallejo)': 1,\n",
              "         'Abelson, Mr. Samuel': 1,\n",
              "         'Francatelli, Miss. Laura Mabel': 1,\n",
              "         'Hays, Miss. Margaret Bechstein': 1,\n",
              "         'Ryerson, Miss. Emily Borie': 1,\n",
              "         'Lahtinen, Mrs. William (Anna Sylfven)': 1,\n",
              "         'Hendekovic, Mr. Ignjac': 1,\n",
              "         'Hart, Mr. Benjamin': 1,\n",
              "         'Nilsson, Miss. Helmina Josefina': 1,\n",
              "         'Kantor, Mrs. Sinai (Miriam Sternin)': 1,\n",
              "         'Moraweck, Dr. Ernest': 1,\n",
              "         'Wick, Miss. Mary Natalie': 1,\n",
              "         'Spedden, Mrs. Frederic Oakley (Margaretta Corning Stone)': 1,\n",
              "         'Dennis, Mr. Samuel': 1,\n",
              "         'Danoff, Mr. Yoto': 1,\n",
              "         'Slayter, Miss. Hilda Mary': 1,\n",
              "         'Caldwell, Mrs. Albert Francis (Sylvia Mae Harbaugh)': 1,\n",
              "         'Sage, Mr. George John Jr': 1,\n",
              "         'Young, Miss. Marie Grice': 1,\n",
              "         'Nysveen, Mr. Johan Hansen': 1,\n",
              "         'Ball, Mrs. (Ada E Hall)': 1,\n",
              "         'Goldsmith, Mrs. Frank John (Emily Alice Brown)': 1,\n",
              "         'Hippach, Miss. Jean Gertrude': 1,\n",
              "         'McCoy, Miss. Agnes': 1,\n",
              "         'Partner, Mr. Austen': 1,\n",
              "         'Graham, Mr. George Edward': 1,\n",
              "         'Vander Planke, Mr. Leo Edmondus': 1,\n",
              "         'Frauenthal, Mrs. Henry William (Clara Heinsheimer)': 1,\n",
              "         'Denkoff, Mr. Mitto': 1,\n",
              "         'Pears, Mr. Thomas Clinton': 1,\n",
              "         'Burns, Miss. Elizabeth Margaret': 1,\n",
              "         'Dahl, Mr. Karl Edwart': 1,\n",
              "         'Blackwell, Mr. Stephen Weart': 1,\n",
              "         'Navratil, Master. Edmond Roger': 1,\n",
              "         'Fortune, Miss. Alice Elizabeth': 1,\n",
              "         'Collander, Mr. Erik Gustaf': 1,\n",
              "         'Sedgwick, Mr. Charles Frederick Waddington': 1,\n",
              "         'Fox, Mr. Stanley Hubert': 1,\n",
              "         'Brown, Miss. Amelia \"Mildred\"': 1,\n",
              "         'Smith, Miss. Marion Elsie': 1,\n",
              "         'Davison, Mrs. Thomas Henry (Mary E Finck)': 1,\n",
              "         'Coutts, Master. William Loch \"William\"': 1,\n",
              "         'Dimic, Mr. Jovan': 1,\n",
              "         'Odahl, Mr. Nils Martin': 1,\n",
              "         'Williams-Lambert, Mr. Fletcher Fellows': 1,\n",
              "         'Elias, Mr. Tannous': 1,\n",
              "         'Arnold-Franchi, Mr. Josef': 1,\n",
              "         'Yousif, Mr. Wazli': 1,\n",
              "         'Vanden Steen, Mr. Leo Peter': 1,\n",
              "         'Bowerman, Miss. Elsie Edith': 1,\n",
              "         'Funk, Miss. Annie Clemmer': 1,\n",
              "         'McGovern, Miss. Mary': 1,\n",
              "         'Mockler, Miss. Helen Mary \"Ellie\"': 1,\n",
              "         'Skoog, Mr. Wilhelm': 1,\n",
              "         'del Carlo, Mr. Sebastiano': 1,\n",
              "         'Barbara, Mrs. (Catherine David)': 1,\n",
              "         'Asim, Mr. Adola': 1,\n",
              "         \"O'Brien, Mr. Thomas\": 1,\n",
              "         'Adahl, Mr. Mauritz Nils Martin': 1,\n",
              "         'Warren, Mrs. Frank Manley (Anna Sophia Atkinson)': 1,\n",
              "         'Moussa, Mrs. (Mantoura Boulos)': 1,\n",
              "         'Jermyn, Miss. Annie': 1,\n",
              "         'Aubart, Mme. Leontine Pauline': 1,\n",
              "         'Harder, Mr. George Achilles': 1,\n",
              "         'Wiklund, Mr. Jakob Alfred': 1,\n",
              "         'Beavan, Mr. William Thomas': 1,\n",
              "         'Ringhini, Mr. Sante': 1,\n",
              "         'Palsson, Miss. Stina Viola': 1,\n",
              "         'Meyer, Mrs. Edgar Joseph (Leila Saks)': 1,\n",
              "         'Landergren, Miss. Aurora Adelia': 1,\n",
              "         'Widener, Mr. Harry Elkins': 1,\n",
              "         'Betros, Mr. Tannous': 1,\n",
              "         'Gustafsson, Mr. Karl Gideon': 1,\n",
              "         'Bidois, Miss. Rosalie': 1,\n",
              "         'Nakid, Miss. Maria (\"Mary\")': 1,\n",
              "         'Tikkanen, Mr. Juho': 1,\n",
              "         'Holverson, Mrs. Alexander Oskar (Mary Aline Towner)': 1,\n",
              "         'Plotcharsky, Mr. Vasil': 1,\n",
              "         'Davies, Mr. Charles Henry': 1,\n",
              "         'Goodwin, Master. Sidney Leonard': 1,\n",
              "         'Buss, Miss. Kate': 1,\n",
              "         'Sadlier, Mr. Matthew': 1,\n",
              "         'Lehmann, Miss. Bertha': 1,\n",
              "         'Carter, Mr. William Ernest': 1,\n",
              "         'Jansson, Mr. Carl Olof': 1,\n",
              "         'Gustafsson, Mr. Johan Birger': 1,\n",
              "         'Newell, Miss. Marjorie': 1,\n",
              "         'Sandstrom, Mrs. Hjalmar (Agnes Charlotta Bengtsson)': 1,\n",
              "         'Johansson, Mr. Erik': 1,\n",
              "         'Olsson, Miss. Elina': 1,\n",
              "         'McKane, Mr. Peter David': 1,\n",
              "         'Pain, Dr. Alfred': 1,\n",
              "         'Trout, Mrs. William H (Jessie L)': 1,\n",
              "         'Niskanen, Mr. Juha': 1,\n",
              "         'Adams, Mr. John': 1,\n",
              "         'Jussila, Miss. Mari Aina': 1,\n",
              "         'Hakkarainen, Mr. Pekka Pietari': 1,\n",
              "         'Oreskovic, Miss. Marija': 1,\n",
              "         'Gale, Mr. Shadrach': 1,\n",
              "         'Widegren, Mr. Carl/Charles Peter': 1,\n",
              "         'Richards, Master. William Rowe': 1,\n",
              "         'Birkeland, Mr. Hans Martin Monsen': 1,\n",
              "         'Lefebre, Miss. Ida': 1,\n",
              "         'Sdycoff, Mr. Todor': 1,\n",
              "         'Hart, Mr. Henry': 1,\n",
              "         'Minahan, Miss. Daisy E': 1,\n",
              "         'Cunningham, Mr. Alfred Fleming': 1,\n",
              "         'Sundman, Mr. Johan Julian': 1,\n",
              "         'Meek, Mrs. Thomas (Annie Louise Rowley)': 1,\n",
              "         'Drew, Mrs. James Vivian (Lulu Thorne Christian)': 1,\n",
              "         'Silven, Miss. Lyyli Karoliina': 1,\n",
              "         'Matthews, Mr. William John': 1,\n",
              "         'Van Impe, Miss. Catharina': 1,\n",
              "         'Gheorgheff, Mr. Stanio': 1,\n",
              "         'Charters, Mr. David': 1,\n",
              "         'Zimmerman, Mr. Leo': 1,\n",
              "         'Danbom, Mrs. Ernst Gilbert (Anna Sigrid Maria Brogren)': 1,\n",
              "         'Rosblom, Mr. Viktor Richard': 1,\n",
              "         'Wiseman, Mr. Phillippe': 1,\n",
              "         'Clarke, Mrs. Charles V (Ada Maria Winfield)': 1,\n",
              "         'Phillips, Miss. Kate Florence (\"Mrs Kate Louise Phillips Marshall\")': 1,\n",
              "         'Flynn, Mr. James': 1,\n",
              "         'Pickard, Mr. Berk (Berk Trembisky)': 1,\n",
              "         'Bjornstrom-Steffansson, Mr. Mauritz Hakan': 1,\n",
              "         'Thorneycroft, Mrs. Percival (Florence Kate White)': 1,\n",
              "         'Louch, Mrs. Charles Alexander (Alice Adelaide Slow)': 1,\n",
              "         'Kallio, Mr. Nikolai Erland': 1,\n",
              "         'Silvey, Mr. William Baird': 1,\n",
              "         'Carter, Miss. Lucile Polk': 1,\n",
              "         'Ford, Miss. Doolina Margaret \"Daisy\"': 1,\n",
              "         'Richards, Mrs. Sidney (Emily Hocking)': 1,\n",
              "         'Fortune, Mr. Mark': 1,\n",
              "         'Kvillner, Mr. Johan Henrik Johannesson': 1,\n",
              "         'Hart, Mrs. Benjamin (Esther Ada Bloomfield)': 1,\n",
              "         'Hampe, Mr. Leon': 1,\n",
              "         'Petterson, Mr. Johan Emil': 1,\n",
              "         'Reynaldo, Ms. Encarnacion': 1,\n",
              "         'Johannesen-Bratthammer, Mr. Bernt': 1,\n",
              "         'Dodge, Master. Washington': 1,\n",
              "         'Mellinger, Miss. Madeleine Violet': 1,\n",
              "         'Seward, Mr. Frederic Kimber': 1,\n",
              "         'Baclini, Miss. Marie Catherine': 1,\n",
              "         'Peuchen, Major. Arthur Godfrey': 1,\n",
              "         'West, Mr. Edwy Arthur': 1,\n",
              "         'Hagland, Mr. Ingvald Olai Olsen': 1,\n",
              "         'Foreman, Mr. Benjamin Laventall': 1,\n",
              "         'Goldenberg, Mr. Samuel L': 1,\n",
              "         'Peduzzi, Mr. Joseph': 1,\n",
              "         'Jalsevac, Mr. Ivan': 1,\n",
              "         'Millet, Mr. Francis Davis': 1,\n",
              "         'Kenyon, Mrs. Frederick R (Marion)': 1,\n",
              "         'Toomey, Miss. Ellen': 1,\n",
              "         \"O'Connor, Mr. Maurice\": 1,\n",
              "         'Anderson, Mr. Harry': 1,\n",
              "         'Morley, Mr. William': 1,\n",
              "         'Gee, Mr. Arthur H': 1,\n",
              "         'Milling, Mr. Jacob Christian': 1,\n",
              "         'Maisner, Mr. Simon': 1,\n",
              "         'Goncalves, Mr. Manuel Estanslas': 1,\n",
              "         'Campbell, Mr. William': 1,\n",
              "         'Smart, Mr. John Montgomery': 1,\n",
              "         'Scanlan, Mr. James': 1,\n",
              "         'Baclini, Miss. Helene Barbara': 1,\n",
              "         'Keefe, Mr. Arthur': 1,\n",
              "         'Cacic, Mr. Luka': 1,\n",
              "         'West, Mrs. Edwy Arthur (Ada Mary Worth)': 1,\n",
              "         'Jerwan, Mrs. Amin S (Marie Marthe Thuillard)': 1,\n",
              "         'Strandberg, Miss. Ida Sofia': 1,\n",
              "         'Clifford, Mr. George Quincy': 1,\n",
              "         'Renouf, Mr. Peter Henry': 1,\n",
              "         'Braund, Mr. Lewis Richard': 1,\n",
              "         'Karlsson, Mr. Nils August': 1,\n",
              "         'Hirvonen, Miss. Hildur E': 1,\n",
              "         'Goodwin, Master. Harold Victor': 1,\n",
              "         'Frost, Mr. Anthony Wood \"Archie\"': 1,\n",
              "         'Rouse, Mr. Richard Henry': 1,\n",
              "         'Turkula, Mrs. (Hedwig)': 1,\n",
              "         'Bishop, Mr. Dickinson H': 1,\n",
              "         'Lefebre, Miss. Jeannie': 1,\n",
              "         'Hoyt, Mrs. Frederick Maxfield (Jane Anne Forby)': 1,\n",
              "         'Kent, Mr. Edward Austin': 1,\n",
              "         'Somerton, Mr. Francis William': 1,\n",
              "         'Coutts, Master. Eden Leslie \"Neville\"': 1,\n",
              "         'Hagland, Mr. Konrad Mathias Reiersen': 1,\n",
              "         'Windelov, Mr. Einar': 1,\n",
              "         'Molson, Mr. Harry Markland': 1,\n",
              "         'Artagaveytia, Mr. Ramon': 1,\n",
              "         'Stanley, Mr. Edward Roland': 1,\n",
              "         'Yousseff, Mr. Gerious': 1,\n",
              "         'Eustis, Miss. Elizabeth Mussey': 1,\n",
              "         'Shellard, Mr. Frederick William': 1,\n",
              "         'Allison, Mrs. Hudson J C (Bessie Waldo Daniels)': 1,\n",
              "         'Svensson, Mr. Olof': 1,\n",
              "         'Calic, Mr. Petar': 1,\n",
              "         'Canavan, Miss. Mary': 1,\n",
              "         \"O'Sullivan, Miss. Bridget Mary\": 1,\n",
              "         'Laitinen, Miss. Kristina Sofia': 1,\n",
              "         'Maioni, Miss. Roberta': 1,\n",
              "         'Penasco y Castellana, Mr. Victor de Satode': 1,\n",
              "         'Quick, Mrs. Frederick Charles (Jane Richards)': 1,\n",
              "         'Bradley, Mr. George (\"George Arthur Brayton\")': 1,\n",
              "         'Olsen, Mr. Henry Margido': 1,\n",
              "         'Lang, Mr. Fang': 1,\n",
              "         'Daly, Mr. Eugene Patrick': 1,\n",
              "         'Webber, Mr. James': 1,\n",
              "         'McGough, Mr. James Robert': 1,\n",
              "         'Rothschild, Mrs. Martin (Elizabeth L. Barrett)': 1,\n",
              "         'Coleff, Mr. Satio': 1,\n",
              "         'Walker, Mr. William Anderson': 1,\n",
              "         'Lemore, Mrs. (Amelia Milley)': 1,\n",
              "         'Ryan, Mr. Patrick': 1,\n",
              "         'Angle, Mrs. William A (Florence \"Mary\" Agnes Hughes)': 1,\n",
              "         'Pavlovic, Mr. Stefo': 1,\n",
              "         'Perreault, Miss. Anne': 1,\n",
              "         'Vovk, Mr. Janko': 1,\n",
              "         'Lahoud, Mr. Sarkis': 1,\n",
              "         'Hippach, Mrs. Louis Albert (Ida Sophia Fischer)': 1,\n",
              "         'Kassem, Mr. Fared': 1,\n",
              "         'Farrell, Mr. James': 1,\n",
              "         'Ridsdale, Miss. Lucy': 1,\n",
              "         'Farthing, Mr. John': 1,\n",
              "         'Salonen, Mr. Johan Werner': 1,\n",
              "         'Hocking, Mr. Richard George': 1,\n",
              "         'Quick, Miss. Phyllis May': 1,\n",
              "         'Toufik, Mr. Nakli': 1,\n",
              "         'Elias, Mr. Joseph Jr': 1,\n",
              "         'Peter, Mrs. Catherine (Catherine Rizk)': 1,\n",
              "         'Cacic, Miss. Marija': 1,\n",
              "         'Hart, Miss. Eva Miriam': 1,\n",
              "         'Butt, Major. Archibald Willingham': 1,\n",
              "         'LeRoy, Miss. Bertha': 1,\n",
              "         'Risien, Mr. Samuel Beard': 1,\n",
              "         'Frolicher, Miss. Hedwig Margaritha': 1,\n",
              "         'Crosby, Miss. Harriet R': 1,\n",
              "         'Andersson, Miss. Ingeborg Constanzia': 1,\n",
              "         'Andersson, Miss. Sigrid Elisabeth': 1,\n",
              "         'Beane, Mr. Edward': 1,\n",
              "         'Douglas, Mr. Walter Donald': 1,\n",
              "         'Nicholson, Mr. Arthur Ernest': 1,\n",
              "         'Beane, Mrs. Edward (Ethel Clarke)': 1,\n",
              "         'Padro y Manent, Mr. Julian': 1,\n",
              "         'Goldsmith, Mr. Frank John': 1,\n",
              "         'Davies, Master. John Morgan Jr': 1,\n",
              "         'Thayer, Mr. John Borland Jr': 1,\n",
              "         'Sharp, Mr. Percival James R': 1,\n",
              "         \"O'Brien, Mr. Timothy\": 1,\n",
              "         'Leeni, Mr. Fahim (\"Philip Zenni\")': 1,\n",
              "         'Ohman, Miss. Velin': 1,\n",
              "         'Wright, Mr. George': 1,\n",
              "         'Duff Gordon, Lady. (Lucille Christiana Sutherland) (\"Mrs Morgan\")': 1,\n",
              "         'Robbins, Mr. Victor': 1,\n",
              "         'Taussig, Mrs. Emil (Tillie Mandelbaum)': 1,\n",
              "         'de Messemaeker, Mrs. Guillaume Joseph (Emma)': 1,\n",
              "         'Morrow, Mr. Thomas Rowan': 1,\n",
              "         'Sivic, Mr. Husein': 1,\n",
              "         'Norman, Mr. Robert Douglas': 1,\n",
              "         'Simmons, Mr. John': 1,\n",
              "         'Meanwell, Miss. (Marion Ogden)': 1,\n",
              "         'Davies, Mr. Alfred J': 1,\n",
              "         'Stoytcheff, Mr. Ilia': 1,\n",
              "         'Palsson, Mrs. Nils (Alma Cornelia Berglund)': 1,\n",
              "         'Doharr, Mr. Tannous': 1,\n",
              "         'Jonsson, Mr. Carl': 1,\n",
              "         'Harris, Mr. George': 1,\n",
              "         'Appleton, Mrs. Edward Dale (Charlotte Lamson)': 1,\n",
              "         'Flynn, Mr. John Irwin (\"Irving\")': 1,\n",
              "         'Kelly, Miss. Mary': 1,\n",
              "         'Rush, Mr. Alfred George John': 1,\n",
              "         'Patchett, Mr. George': 1,\n",
              "         'Garside, Miss. Ethel': 1,\n",
              "         'Silvey, Mrs. William Baird (Alice Munger)': 1,\n",
              "         'Caram, Mrs. Joseph (Maria Elias)': 1,\n",
              "         'Jussila, Mr. Eiriik': 1,\n",
              "         'Christy, Miss. Julie Rachel': 1,\n",
              "         'Thayer, Mrs. John Borland (Marian Longstreth Morris)': 1,\n",
              "         'Downton, Mr. William James': 1,\n",
              "         'Ross, Mr. John Hugo': 1,\n",
              "         'Paulner, Mr. Uscher': 1,\n",
              "         'Taussig, Miss. Ruth': 1,\n",
              "         'Jarvis, Mr. John Denzil': 1,\n",
              "         'Frolicher-Stehli, Mr. Maxmillian': 1,\n",
              "         'Gilinski, Mr. Eliezer': 1,\n",
              "         'Murdlin, Mr. Joseph': 1,\n",
              "         'Rintamaki, Mr. Matti': 1,\n",
              "         'Stephenson, Mrs. Walter Bertram (Martha Eustis)': 1,\n",
              "         'Elsbury, Mr. William James': 1,\n",
              "         'Bourke, Miss. Mary': 1,\n",
              "         'Chapman, Mr. John Henry': 1,\n",
              "         'Van Impe, Mr. Jean Baptiste': 1,\n",
              "         'Leitch, Miss. Jessie Wills': 1,\n",
              "         'Johnson, Mr. Alfred': 1,\n",
              "         'Boulos, Mr. Hanna': 1,\n",
              "         'Duff Gordon, Sir. Cosmo Edmund (\"Mr Morgan\")': 1,\n",
              "         'Jacobsohn, Mrs. Sidney Samuel (Amy Frances Christy)': 1,\n",
              "         'Slabenoff, Mr. Petco': 1,\n",
              "         'Harrington, Mr. Charles H': 1,\n",
              "         'Torber, Mr. Ernst William': 1,\n",
              "         'Homer, Mr. Harry (\"Mr E Haven\")': 1,\n",
              "         'Lindell, Mr. Edvard Bengtsson': 1,\n",
              "         'Karaic, Mr. Milan': 1,\n",
              "         'Daniel, Mr. Robert Williams': 1,\n",
              "         'Laroche, Mrs. Joseph (Juliette Marie Louise Lafargue)': 1,\n",
              "         'Shutes, Miss. Elizabeth W': 1,\n",
              "         'Andersson, Mrs. Anders Johan (Alfrida Konstantia Brogren)': 1,\n",
              "         'Jardin, Mr. Jose Neto': 1,\n",
              "         'Murphy, Miss. Margaret Jane': 1,\n",
              "         'Horgan, Mr. John': 1,\n",
              "         'Brocklebank, Mr. William Alfred': 1,\n",
              "         'Herman, Miss. Alice': 1,\n",
              "         'Danbom, Mr. Ernst Gilbert': 1,\n",
              "         'Lobb, Mrs. William Arthur (Cordelia K Stanlick)': 1,\n",
              "         'Becker, Miss. Marion Louise': 1,\n",
              "         'Gavey, Mr. Lawrence': 1,\n",
              "         'Yasbeck, Mr. Antoni': 1,\n",
              "         'Kimball, Mr. Edwin Nelson Jr': 1,\n",
              "         'Nakid, Mr. Sahid': 1,\n",
              "         'Hansen, Mr. Henry Damsgaard': 1,\n",
              "         'Bowen, Mr. David John \"Dai\"': 1,\n",
              "         'Sutton, Mr. Frederick': 1,\n",
              "         'Kirkland, Rev. Charles Leonard': 1,\n",
              "         'Longley, Miss. Gretchen Fiske': 1,\n",
              "         'Bostandyeff, Mr. Guentcho': 1,\n",
              "         \"O'Connell, Mr. Patrick D\": 1,\n",
              "         'Barkworth, Mr. Algernon Henry Wilson': 1,\n",
              "         'Lundahl, Mr. Johan Svensson': 1,\n",
              "         'Stahelin-Maeglin, Dr. Max': 1,\n",
              "         'Parr, Mr. William Henry Marsh': 1,\n",
              "         'Skoog, Miss. Mabel': 1,\n",
              "         'Davis, Miss. Mary': 1,\n",
              "         'Leinonen, Mr. Antti Gustaf': 1,\n",
              "         'Collyer, Mr. Harvey': 1,\n",
              "         'Panula, Mrs. Juha (Maria Emilia Ojala)': 1,\n",
              "         'Thorneycroft, Mr. Percival': 1,\n",
              "         'Jensen, Mr. Hans Peder': 1,\n",
              "         'Sagesser, Mlle. Emma': 1,\n",
              "         'Skoog, Miss. Margit Elizabeth': 1,\n",
              "         'Foo, Mr. Choong': 1,\n",
              "         'Baclini, Miss. Eugenie': 1,\n",
              "         'Harper, Mr. Henry Sleeper': 1,\n",
              "         'Cor, Mr. Liudevit': 1,\n",
              "         'Simonius-Blumer, Col. Oberst Alfons': 1,\n",
              "         'Willey, Mr. Edward': 1,\n",
              "         'Stanley, Miss. Amy Zillah Elsie': 1,\n",
              "         'Mitkoff, Mr. Mito': 1,\n",
              "         'Doling, Miss. Elsie': 1,\n",
              "         'Kalvik, Mr. Johannes Halvorsen': 1,\n",
              "         'O\\'Leary, Miss. Hanora \"Norah\"': 1,\n",
              "         'Hegarty, Miss. Hanora \"Nora\"': 1,\n",
              "         'Hickman, Mr. Leonard Mark': 1,\n",
              "         'Radeff, Mr. Alexander': 1,\n",
              "         'Bourke, Mrs. John (Catherine)': 1,\n",
              "         'Eitemiller, Mr. George Floyd': 1,\n",
              "         'Newell, Mr. Arthur Webster': 1,\n",
              "         'Frauenthal, Dr. Henry William': 1,\n",
              "         'Badt, Mr. Mohamed': 1,\n",
              "         'Colley, Mr. Edward Pomeroy': 1,\n",
              "         'Coleff, Mr. Peju': 1,\n",
              "         'Lindqvist, Mr. Eino William': 1,\n",
              "         'Hickman, Mr. Lewis': 1,\n",
              "         'Butler, Mr. Reginald Fenton': 1,\n",
              "         'Rommetvedt, Mr. Knud Paust': 1,\n",
              "         'Cook, Mr. Jacob': 1,\n",
              "         'Taylor, Mrs. Elmer Zebley (Juliet Cummins Wright)': 1,\n",
              "         'Brown, Mrs. Thomas William Solomon (Elizabeth Catherine Ford)': 1,\n",
              "         'Davidson, Mr. Thornton': 1,\n",
              "         'Mitchell, Mr. Henry Michael': 1,\n",
              "         'Wilhelms, Mr. Charles': 1,\n",
              "         'Watson, Mr. Ennis Hastings': 1,\n",
              "         'Edvardsson, Mr. Gustaf Hjalmar': 1,\n",
              "         'Sawyer, Mr. Frederick Charles': 1,\n",
              "         'Turja, Miss. Anna Sofia': 1,\n",
              "         'Goodwin, Mrs. Frederick (Augusta Tyler)': 1,\n",
              "         'Cardeza, Mr. Thomas Drake Martinez': 1,\n",
              "         'Peters, Miss. Katie': 1,\n",
              "         'Hassab, Mr. Hammad': 1,\n",
              "         'Olsvigen, Mr. Thor Anderson': 1,\n",
              "         'Goodwin, Mr. Charles Edward': 1,\n",
              "         'Brown, Mr. Thomas William Solomon': 1,\n",
              "         'Laroche, Mr. Joseph Philippe Lemercier': 1,\n",
              "         'Panula, Mr. Jaako Arnold': 1,\n",
              "         'Dakic, Mr. Branko': 1,\n",
              "         'Fischer, Mr. Eberhard Thelander': 1,\n",
              "         'Madill, Miss. Georgette Alexandra': 1,\n",
              "         'Dick, Mr. Albert Adrian': 1,\n",
              "         'Karun, Miss. Manca': 1,\n",
              "         'Lam, Mr. Ali': 1,\n",
              "         'Saad, Mr. Khalil': 1,\n",
              "         'Weir, Col. John': 1,\n",
              "         'Chapman, Mr. Charles Henry': 1,\n",
              "         'Kelly, Mr. James': 1,\n",
              "         'Mullens, Miss. Katherine \"Katie\"': 1,\n",
              "         'Thayer, Mr. John Borland': 1,\n",
              "         'Humblen, Mr. Adolf Mathias Nicolai Olsen': 1,\n",
              "         'Astor, Mrs. John Jacob (Madeleine Talmadge Force)': 1,\n",
              "         'Silverthorne, Mr. Spencer Victor': 1,\n",
              "         'Barbara, Miss. Saiide': 1,\n",
              "         'Gallagher, Mr. Martin': 1,\n",
              "         'Hansen, Mr. Henrik Juul': 1,\n",
              "         'Morley, Mr. Henry Samuel (\"Mr Henry Marshall\")': 1,\n",
              "         'Kelly, Mrs. Florence \"Fannie\"': 1,\n",
              "         'Calderhead, Mr. Edward Pennington': 1,\n",
              "         'Cleaver, Miss. Alice': 1,\n",
              "         'Moubarek, Master. Halim Gonios (\"William George\")': 1,\n",
              "         'Mayne, Mlle. Berthe Antonine (\"Mrs de Villiers\")': 1,\n",
              "         'Klaber, Mr. Herman': 1,\n",
              "         'Taylor, Mr. Elmer Zebley': 1,\n",
              "         'Larsson, Mr. August Viktor': 1,\n",
              "         'Greenberg, Mr. Samuel': 1,\n",
              "         'Soholt, Mr. Peter Andreas Lauritz Andersen': 1,\n",
              "         'Endres, Miss. Caroline Louise': 1,\n",
              "         'Troutt, Miss. Edwina Celia \"Winnie\"': 1,\n",
              "         'McEvoy, Mr. Michael': 1,\n",
              "         'Johnson, Mr. Malkolm Joackim': 1,\n",
              "         'Harper, Miss. Annie Jessie \"Nina\"': 1,\n",
              "         'Jensen, Mr. Svend Lauritz': 1,\n",
              "         'Gillespie, Mr. William Henry': 1,\n",
              "         'Hodges, Mr. Henry Price': 1,\n",
              "         'Chambers, Mr. Norman Campbell': 1,\n",
              "         'Oreskovic, Mr. Luka': 1,\n",
              "         'Renouf, Mrs. Peter Henry (Lillian Jefferys)': 1,\n",
              "         'Mannion, Miss. Margareth': 1,\n",
              "         'Bryhl, Mr. Kurt Arnold Gottfrid': 1,\n",
              "         'Ilmakangas, Miss. Pieta Sofia': 1,\n",
              "         'Allen, Miss. Elisabeth Walton': 1,\n",
              "         'Hassan, Mr. Houssein G N': 1,\n",
              "         'Knight, Mr. Robert J': 1,\n",
              "         'Berriman, Mr. William John': 1,\n",
              "         'Troupiansky, Mr. Moses Aaron': 1,\n",
              "         'Williams, Mr. Leslie': 1,\n",
              "         'Ford, Mrs. Edward (Margaret Ann Watson)': 1,\n",
              "         'Lesurer, Mr. Gustave J': 1,\n",
              "         'Ivanoff, Mr. Kanio': 1,\n",
              "         'Nankoff, Mr. Minko': 1,\n",
              "         'Hawksford, Mr. Walter James': 1,\n",
              "         'Cavendish, Mr. Tyrell William': 1,\n",
              "         'Ryerson, Miss. Susan Parker \"Suzette\"': 1,\n",
              "         'McNamee, Mr. Neal': 1,\n",
              "         'Stranden, Mr. Juho': 1,\n",
              "         'Crosby, Capt. Edward Gifford': 1,\n",
              "         'Abbott, Mr. Rossmore Edward': 1,\n",
              "         'Sinkkonen, Miss. Anna': 1,\n",
              "         'Marvin, Mr. Daniel Warner': 1,\n",
              "         'Connaghton, Mr. Michael': 1,\n",
              "         'Wells, Miss. Joan': 1,\n",
              "         'Moor, Master. Meier': 1,\n",
              "         'Vande Velde, Mr. Johannes Joseph': 1,\n",
              "         'Jonkoff, Mr. Lalio': 1,\n",
              "         'Herman, Mrs. Samuel (Jane Laver)': 1,\n",
              "         'Hamalainen, Master. Viljo': 1,\n",
              "         'Carlsson, Mr. August Sigfrid': 1,\n",
              "         'Bailey, Mr. Percy Andrew': 1,\n",
              "         'Theobald, Mr. Thomas Leonard': 1,\n",
              "         'Rothes, the Countess. of (Lucy Noel Martha Dyer-Edwards)': 1,\n",
              "         'Garfirth, Mr. John': 1,\n",
              "         'Nirva, Mr. Iisakki Antino Aijo': 1,\n",
              "         'Barah, Mr. Hanna Assi': 1,\n",
              "         'Carter, Mrs. William Ernest (Lucile Polk)': 1,\n",
              "         'Eklund, Mr. Hans Linus': 1,\n",
              "         'Hogeboom, Mrs. John C (Anna Andrews)': 1,\n",
              "         'Brewe, Dr. Arthur Jackson': 1,\n",
              "         'Mangan, Miss. Mary': 1,\n",
              "         'Moran, Mr. Daniel J': 1,\n",
              "         'Gronnestad, Mr. Daniel Danielsen': 1,\n",
              "         'Lievens, Mr. Rene Aime': 1,\n",
              "         'Jensen, Mr. Niels Peder': 1,\n",
              "         'Mack, Mrs. (Mary)': 1,\n",
              "         'Elias, Mr. Dibo': 1,\n",
              "         'Hocking, Mrs. Elizabeth (Eliza Needs)': 1,\n",
              "         'Myhrman, Mr. Pehr Fabian Oliver Malkolm': 1,\n",
              "         'Tobin, Mr. Roger': 1,\n",
              "         'Emanuel, Miss. Virginia Ethel': 1,\n",
              "         'Kilgannon, Mr. Thomas J': 1,\n",
              "         'Robert, Mrs. Edward Scott (Elisabeth Walton McMillan)': 1,\n",
              "         'Ayoub, Miss. Banoura': 1,\n",
              "         'Dick, Mrs. Albert Adrian (Vera Gillespie)': 1,\n",
              "         'Long, Mr. Milton Clyde': 1,\n",
              "         'Johnston, Mr. Andrew G': 1,\n",
              "         'Ali, Mr. William': 1,\n",
              "         'Harmer, Mr. Abraham (David Lishin)': 1,\n",
              "         'Sjoblom, Miss. Anna Sofia': 1,\n",
              "         'Rice, Master. George Hugh': 1,\n",
              "         'Dean, Master. Bertram Vere': 1,\n",
              "         'Guggenheim, Mr. Benjamin': 1,\n",
              "         'Keane, Mr. Andrew \"Andy\"': 1,\n",
              "         'Gaskell, Mr. Alfred': 1,\n",
              "         'Sage, Miss. Stella Anna': 1,\n",
              "         'Hoyt, Mr. William Fisher': 1,\n",
              "         'Dantcheff, Mr. Ristiu': 1,\n",
              "         'Otter, Mr. Richard': 1,\n",
              "         'Leader, Dr. Alice (Farnham)': 1,\n",
              "         'Osman, Mrs. Mara': 1,\n",
              "         'Ibrahim Shawah, Mr. Yousseff': 1,\n",
              "         'Van Impe, Mrs. Jean Baptiste (Rosalie Paula Govaert)': 1,\n",
              "         'Ponesell, Mr. Martin': 1,\n",
              "         'Collyer, Mrs. Harvey (Charlotte Annie Tate)': 1,\n",
              "         'Carter, Master. William Thornton II': 1,\n",
              "         'Thomas, Master. Assad Alexander': 1,\n",
              "         'Hedman, Mr. Oskar Arvid': 1,\n",
              "         'Johansson, Mr. Karl Johan': 1,\n",
              "         'Andrews, Mr. Thomas Jr': 1,\n",
              "         'Pettersson, Miss. Ellen Natalia': 1,\n",
              "         'Meyer, Mr. August': 1,\n",
              "         'Chambers, Mrs. Norman Campbell (Bertha Griggs)': 1,\n",
              "         'Alexander, Mr. William': 1,\n",
              "         'Lester, Mr. James': 1,\n",
              "         'Slemen, Mr. Richard James': 1,\n",
              "         'Andersson, Miss. Ebba Iris Alfrida': 1,\n",
              "         'Tomlin, Mr. Ernest Portage': 1,\n",
              "         'Fry, Mr. Richard': 1,\n",
              "         'Heininen, Miss. Wendla Maria': 1,\n",
              "         'Mallet, Mr. Albert': 1,\n",
              "         'Holm, Mr. John Fredrik Alexander': 1,\n",
              "         'Skoog, Master. Karl Thorsten': 1,\n",
              "         'Hays, Mrs. Charles Melville (Clara Jennings Gregg)': 1,\n",
              "         'Lulic, Mr. Nikola': 1,\n",
              "         'Reuchlin, Jonkheer. John George': 1,\n",
              "         'Moor, Mrs. (Beila)': 1,\n",
              "         'Panula, Master. Urho Abraham': 1,\n",
              "         'Flynn, Mr. John': 1,\n",
              "         'Lam, Mr. Len': 1,\n",
              "         'Mallet, Master. Andre': 1,\n",
              "         'McCormack, Mr. Thomas Joseph': 1,\n",
              "         'Stone, Mrs. George Nelson (Martha Evelyn)': 1,\n",
              "         'Yasbeck, Mrs. Antoni (Selini Alexander)': 1,\n",
              "         'Richards, Master. George Sibley': 1,\n",
              "         'Saad, Mr. Amin': 1,\n",
              "         'Augustsson, Mr. Albert': 1,\n",
              "         'Allum, Mr. Owen George': 1,\n",
              "         'Compton, Miss. Sara Rebecca': 1,\n",
              "         'Pasic, Mr. Jakob': 1,\n",
              "         'Sirota, Mr. Maurice': 1,\n",
              "         'Chip, Mr. Chang': 1,\n",
              "         'Marechal, Mr. Pierre': 1,\n",
              "         'Alhomaki, Mr. Ilmari Rudolf': 1,\n",
              "         'Mudd, Mr. Thomas Charles': 1,\n",
              "         'Serepeca, Miss. Augusta': 1,\n",
              "         'Lemberopolous, Mr. Peter L': 1,\n",
              "         'Culumovic, Mr. Jeso': 1,\n",
              "         'Abbing, Mr. Anthony': 1,\n",
              "         'Sage, Mr. Douglas Bullen': 1,\n",
              "         'Markoff, Mr. Marin': 1,\n",
              "         'Harper, Rev. John': 1,\n",
              "         'Goldenberg, Mrs. Samuel L (Edwiga Grabowska)': 1,\n",
              "         'Andersson, Master. Sigvard Harald Elias': 1,\n",
              "         'Svensson, Mr. Johan': 1,\n",
              "         'Boulos, Miss. Nourelain': 1,\n",
              "         'Lines, Miss. Mary Conover': 1,\n",
              "         'Carter, Mrs. Ernest Courtenay (Lilian Hughes)': 1,\n",
              "         'Aks, Mrs. Sam (Leah Rosen)': 1,\n",
              "         'Wick, Mrs. George Dennick (Mary Hitchcock)': 1,\n",
              "         'Daly, Mr. Peter Denis ': 1,\n",
              "         'Baclini, Mrs. Solomon (Latifa Qurban)': 1,\n",
              "         'Razi, Mr. Raihed': 1,\n",
              "         'Hansen, Mr. Claus Peter': 1,\n",
              "         'Giles, Mr. Frederick Edward': 1,\n",
              "         'Swift, Mrs. Frederick Joel (Margaret Welles Barron)': 1,\n",
              "         'Sage, Miss. Dorothy Edith \"Dolly\"': 1,\n",
              "         'Gill, Mr. John William': 1,\n",
              "         'Bystrom, Mrs. (Karolina)': 1,\n",
              "         'Duran y More, Miss. Asuncion': 1,\n",
              "         'Roebling, Mr. Washington Augustus II': 1,\n",
              "         'van Melkebeke, Mr. Philemon': 1,\n",
              "         'Johnson, Master. Harold Theodor': 1,\n",
              "         'Balkic, Mr. Cerin': 1,\n",
              "         'Beckwith, Mrs. Richard Leonard (Sallie Monypeny)': 1,\n",
              "         'Carlsson, Mr. Frans Olof': 1,\n",
              "         'Vander Cruyssen, Mr. Victor': 1,\n",
              "         'Abelson, Mrs. Samuel (Hannah Wizosky)': 1,\n",
              "         'Najib, Miss. Adele Kiamie \"Jane\"': 1,\n",
              "         'Gustafsson, Mr. Alfred Ossian': 1,\n",
              "         'Petroff, Mr. Nedelio': 1,\n",
              "         'Laleff, Mr. Kristo': 1,\n",
              "         'Potter, Mrs. Thomas Jr (Lily Alexenia Wilson)': 1,\n",
              "         'Shelley, Mrs. William (Imanita Parrish Hall)': 1,\n",
              "         'Markun, Mr. Johann': 1,\n",
              "         'Dahlberg, Miss. Gerda Ulrika': 1,\n",
              "         'Banfield, Mr. Frederick James': 1,\n",
              "         'Sutehall, Mr. Henry Jr': 1,\n",
              "         'Rice, Mrs. William (Margaret Norton)': 1,\n",
              "         'Montvila, Rev. Juozas': 1,\n",
              "         'Graham, Miss. Margaret Edith': 1,\n",
              "         'Johnston, Miss. Catherine Helen \"Carrie\"': 1,\n",
              "         'Behr, Mr. Karl Howell': 1,\n",
              "         'Dooley, Mr. Patrick': 1})"
            ]
          },
          "metadata": {},
          "execution_count": 83
        }
      ]
    },
    {
      "cell_type": "code",
      "source": [
        "len(title)"
      ],
      "metadata": {
        "colab": {
          "base_uri": "https://localhost:8080/"
        },
        "id": "cY4obb1uQOeC",
        "outputId": "75d20b0a-dd0a-4f6d-969b-1fcbdbf3c8ea"
      },
      "execution_count": 52,
      "outputs": [
        {
          "output_type": "execute_result",
          "data": {
            "text/plain": [
              "1603"
            ]
          },
          "metadata": {},
          "execution_count": 52
        }
      ]
    },
    {
      "cell_type": "code",
      "source": [
        "Counter(title2)"
      ],
      "metadata": {
        "id": "hq5r36LjDu7j",
        "outputId": "8d0a7987-8a36-43b9-ecef-e04056520bce",
        "colab": {
          "base_uri": "https://localhost:8080/"
        }
      },
      "execution_count": 51,
      "outputs": [
        {
          "output_type": "execute_result",
          "data": {
            "text/plain": [
              "Counter()"
            ]
          },
          "metadata": {},
          "execution_count": 51
        }
      ]
    },
    {
      "cell_type": "code",
      "source": [
        "497+120+176+39"
      ],
      "metadata": {
        "colab": {
          "base_uri": "https://localhost:8080/"
        },
        "id": "ui6_z0B4QFso",
        "outputId": "2f79f1fb-fee5-41bf-afa2-670dc256ab8c"
      },
      "execution_count": 17,
      "outputs": [
        {
          "output_type": "execute_result",
          "data": {
            "text/plain": [
              "832"
            ]
          },
          "metadata": {},
          "execution_count": 17
        }
      ]
    },
    {
      "cell_type": "code",
      "source": [
        "891-832"
      ],
      "metadata": {
        "colab": {
          "base_uri": "https://localhost:8080/"
        },
        "id": "OzdfIEDgQRj9",
        "outputId": "8fdd0159-41ba-4836-9c9d-30d617c7aad2"
      },
      "execution_count": 18,
      "outputs": [
        {
          "output_type": "execute_result",
          "data": {
            "text/plain": [
              "59"
            ]
          },
          "metadata": {},
          "execution_count": 18
        }
      ]
    },
    {
      "cell_type": "code",
      "source": [
        "59-20"
      ],
      "metadata": {
        "colab": {
          "base_uri": "https://localhost:8080/"
        },
        "id": "lzBYAk3Q-Bsk",
        "outputId": "bab988a0-ebb2-4366-a315-347af88dc1b8"
      },
      "execution_count": 19,
      "outputs": [
        {
          "output_type": "execute_result",
          "data": {
            "text/plain": [
              "39"
            ]
          },
          "metadata": {},
          "execution_count": 19
        }
      ]
    },
    {
      "cell_type": "code",
      "source": [
        "import spacy\n",
        "\n",
        "\n",
        "nlp = spacy.blank(\"en\")\n",
        "doc = nlp(train['Name'][1])\n",
        "\n",
        "filtered_tokens = [token.text for token in doc if not token.is_stop]\n"
      ],
      "metadata": {
        "id": "SLam0xcbTY39"
      },
      "execution_count": 20,
      "outputs": []
    },
    {
      "cell_type": "code",
      "source": [],
      "metadata": {
        "id": "Sq2mSC0p8bzT"
      },
      "execution_count": 20,
      "outputs": []
    },
    {
      "cell_type": "code",
      "source": [
        "filtered_tokens[2]"
      ],
      "metadata": {
        "colab": {
          "base_uri": "https://localhost:8080/",
          "height": 35
        },
        "id": "4QFeG_5c5yRs",
        "outputId": "ef111145-762a-4a38-94b5-adcbba956c07"
      },
      "execution_count": 21,
      "outputs": [
        {
          "output_type": "execute_result",
          "data": {
            "text/plain": [
              "'Mrs.'"
            ],
            "application/vnd.google.colaboratory.intrinsic+json": {
              "type": "string"
            }
          },
          "metadata": {},
          "execution_count": 21
        }
      ]
    },
    {
      "cell_type": "code",
      "source": [],
      "metadata": {
        "id": "18J4uFhX-FRC"
      },
      "execution_count": 21,
      "outputs": []
    },
    {
      "cell_type": "code",
      "source": [
        "doc = nlp(train['Name'][0])\n",
        "filtered_tokens = [token.text for token in doc if not token.is_stop]\n",
        "filtered_tokens[2]"
      ],
      "metadata": {
        "colab": {
          "base_uri": "https://localhost:8080/",
          "height": 35
        },
        "id": "zGEGjJi5Ve1L",
        "outputId": "69838c28-052b-460c-ec30-3caee7028bdf"
      },
      "execution_count": 22,
      "outputs": [
        {
          "output_type": "execute_result",
          "data": {
            "text/plain": [
              "'Mr.'"
            ],
            "application/vnd.google.colaboratory.intrinsic+json": {
              "type": "string"
            }
          },
          "metadata": {},
          "execution_count": 22
        }
      ]
    },
    {
      "cell_type": "code",
      "source": [],
      "metadata": {
        "id": "g7zopP5K5udN"
      },
      "execution_count": 22,
      "outputs": []
    },
    {
      "cell_type": "code",
      "source": [],
      "metadata": {
        "id": "03X6UPmEWrl3"
      },
      "execution_count": 22,
      "outputs": []
    },
    {
      "cell_type": "code",
      "source": [
        "max(a)"
      ],
      "metadata": {
        "id": "PoKwUlll3EJ9",
        "colab": {
          "base_uri": "https://localhost:8080/"
        },
        "outputId": "299a954f-a09e-40ed-f15e-738f807c6cc1"
      },
      "execution_count": 96,
      "outputs": [
        {
          "output_type": "execute_result",
          "data": {
            "text/plain": [
              "4"
            ]
          },
          "metadata": {},
          "execution_count": 96
        }
      ]
    },
    {
      "cell_type": "code",
      "source": [
        "sum(a)"
      ],
      "metadata": {
        "colab": {
          "base_uri": "https://localhost:8080/"
        },
        "id": "bAjG3lhdIA6U",
        "outputId": "d34c9d77-9e28-4add-e54f-930cad493c9d"
      },
      "execution_count": 97,
      "outputs": [
        {
          "output_type": "execute_result",
          "data": {
            "text/plain": [
              "10"
            ]
          },
          "metadata": {},
          "execution_count": 97
        }
      ]
    },
    {
      "cell_type": "code",
      "source": [
        "a = [1,2,3,4]\n",
        "c = [i*5 for i in a]\n",
        "print(c)"
      ],
      "metadata": {
        "colab": {
          "base_uri": "https://localhost:8080/"
        },
        "id": "ih8VdrmUYLef",
        "outputId": "d269b220-2790-4f8a-cb59-85ae0b5e7cbb"
      },
      "execution_count": 95,
      "outputs": [
        {
          "output_type": "stream",
          "name": "stdout",
          "text": [
            "[5, 10, 15, 20]\n"
          ]
        }
      ]
    },
    {
      "cell_type": "code",
      "source": [
        "def plusMinus(arr):\n",
        "    # Write your code here\n",
        "    neg_count=0\n",
        "    pos_count=0\n",
        "    zero_count=0\n",
        "    for num in arr:\n",
        "    # checking condition\n",
        "        if num<0:\n",
        "            neg_count += 1\n",
        "        elif num>0:\n",
        "            pos_count+=1\n",
        "        elif num == 0:\n",
        "            zero_count+=1\n",
        "    print(len(arr)/pos_count)\n",
        "    print(len(arr)/neg_count)\n",
        "    print(len(arr)/zero_count)\n",
        "\n",
        "\n",
        "if __name__ == '__main__':\n",
        "    n = int(input().strip())\n",
        "\n",
        "    arr = list(map(int, input().rstrip().split()))\n",
        "\n",
        "    plusMinus(arr)\n"
      ],
      "metadata": {
        "id": "ioepvZefvej2",
        "colab": {
          "base_uri": "https://localhost:8080/"
        },
        "outputId": "59b333ce-81de-433d-c850-d923aa71082c"
      },
      "execution_count": 94,
      "outputs": [
        {
          "output_type": "stream",
          "name": "stdout",
          "text": [
            "6\n",
            "-9 0 1 3 -2\n",
            "2.5\n",
            "2.5\n",
            "5.0\n"
          ]
        }
      ]
    },
    {
      "cell_type": "code",
      "source": [
        "a = \"1 -2 3 -5\".strip()"
      ],
      "metadata": {
        "id": "oC20tLqQDz4B"
      },
      "execution_count": 87,
      "outputs": []
    },
    {
      "cell_type": "code",
      "source": [
        "a"
      ],
      "metadata": {
        "colab": {
          "base_uri": "https://localhost:8080/",
          "height": 35
        },
        "id": "k_QWjUWvEtpp",
        "outputId": "e88a7a92-e97c-449e-9273-ef5383decb3c"
      },
      "execution_count": 88,
      "outputs": [
        {
          "output_type": "execute_result",
          "data": {
            "text/plain": [
              "'1 -2 3 -5'"
            ],
            "application/vnd.google.colaboratory.intrinsic+json": {
              "type": "string"
            }
          },
          "metadata": {},
          "execution_count": 88
        }
      ]
    },
    {
      "cell_type": "code",
      "source": [],
      "metadata": {
        "id": "g2xrBcsbE29P"
      },
      "execution_count": null,
      "outputs": []
    }
  ]
}